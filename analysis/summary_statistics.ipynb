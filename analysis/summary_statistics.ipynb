{
 "cells": [
  {
   "cell_type": "markdown",
   "metadata": {},
   "source": [
    "## Summary Statistics"
   ]
  },
  {
   "cell_type": "code",
   "execution_count": 2,
   "metadata": {},
   "outputs": [],
   "source": [
    "import pandas as pd\n",
    "import numpy as np\n",
    "import matplotlib.pyplot as plt\n",
    "import os"
   ]
  },
  {
   "cell_type": "code",
   "execution_count": 5,
   "metadata": {},
   "outputs": [
    {
     "name": "stdout",
     "output_type": "stream",
     "text": [
      "C:/Users/doosti/OneDrive - Chapman University/From_Dropbox/Research/Research Projects/Fitness/Data/\n"
     ]
    }
   ],
   "source": [
    "Path = \"C:/Users/doosti/OneDrive - Chapman University/Research/Research Projects/Fitness/Data/\"\n",
    "print(Path)"
   ]
  },
  {
   "cell_type": "code",
   "execution_count": 6,
   "metadata": {},
   "outputs": [
    {
     "name": "stdout",
     "output_type": "stream",
     "text": [
      "            creator_id        date  views  engagements  uploads  followers  \\\n",
      "0  262h9yTG1f03Nobo501  2020-09-15    325           19        0       23.0   \n",
      "1  262h9yTG1f03Nobo501  2020-09-16    288           14        0       24.0   \n",
      "2  262h9yTG1f03Nobo501  2020-09-17    268           19        0       23.0   \n",
      "3  262h9yTG1f03Nobo501  2020-09-18    255           18        0       24.0   \n",
      "4  262h9yTG1f03Nobo501  2020-09-19    257           13        0       23.0   \n",
      "\n",
      "   avg_challenge publish_date  challenge_dummy  total_views  ...  \\\n",
      "0            NaN          NaN                0     22309517  ...   \n",
      "1            NaN          NaN                0     22309517  ...   \n",
      "2            NaN          NaN                0     22309517  ...   \n",
      "3            NaN          NaN                0     22309517  ...   \n",
      "4            NaN          NaN                0     22309517  ...   \n",
      "\n",
      "   challenge_duration  prev_challenge  next_challenge  start_challenge  \\\n",
      "0                   0             0.0             0.0            False   \n",
      "1                   0             0.0             0.0            False   \n",
      "2                   0             0.0             0.0            False   \n",
      "3                   0             0.0             0.0            False   \n",
      "4                   0             0.0             0.0            False   \n",
      "\n",
      "   end_challenge  challenge_id  start_date  end_date duration  post_challenge  \n",
      "0          False             0         NaN       NaN      NaN               0  \n",
      "1          False             0         NaN       NaN      NaN               0  \n",
      "2          False             0         NaN       NaN      NaN               0  \n",
      "3          False             0         NaN       NaN      NaN               0  \n",
      "4          False             0         NaN       NaN      NaN               0  \n",
      "\n",
      "[5 rows x 44 columns]\n"
     ]
    }
   ],
   "source": [
    "# load data\n",
    "channels = pd.read_csv(Path+'channel_trends_to_stata_performance_v3.csv')\n",
    "print(channels.head())"
   ]
  },
  {
   "cell_type": "code",
   "execution_count": 9,
   "metadata": {},
   "outputs": [
    {
     "name": "stdout",
     "output_type": "stream",
     "text": [
      "(84522, 44)\n",
      "            views  engagements   uploads  followers  avg_challenge  \\\n",
      "count   84522.000    84522.000 84522.000  84522.000      16277.000   \n",
      "mean    28904.602      602.462     0.344    201.626          0.117   \n",
      "std     99208.543     2003.885     1.254   1843.865          0.276   \n",
      "min         0.000        0.000     0.000      0.000          0.000   \n",
      "25%       954.000       24.000     0.000      0.000          0.000   \n",
      "50%      3856.000       89.000     0.000      0.000          0.000   \n",
      "75%     14342.750      333.000     0.000     10.000          0.000   \n",
      "max   7304216.000   186843.000    28.000 100000.000          1.000   \n",
      "\n",
      "       challenge_dummy    total_views  views_per_upload  total_engagements  \\\n",
      "count        84522.000      84522.000         84522.000          84522.000   \n",
      "mean             0.025   51971944.205        103730.203         970446.445   \n",
      "std              0.158  165773654.010        255087.786        2425654.399   \n",
      "min              0.000     185040.000           631.536           5109.000   \n",
      "25%              0.000    2329066.000         10709.152          58124.000   \n",
      "50%              0.000   16063242.000         28562.843         340651.000   \n",
      "75%              0.000   35438293.000         74703.809         861873.000   \n",
      "max              1.000 1381594342.000       1892594.989       18871172.000   \n",
      "\n",
      "       engagements_per_upload  ...  days_since_first_upload  cum_uploads  \\\n",
      "count               84522.000  ...                84522.000    84522.000   \n",
      "mean                 2021.567  ...                 2148.122      215.687   \n",
      "std                  4160.869  ...                 1231.668      744.403   \n",
      "min                    38.708  ...                 -676.000        0.000   \n",
      "25%                   266.166  ...                 1111.000       22.000   \n",
      "50%                   668.403  ...                 2142.000       72.000   \n",
      "75%                  1530.815  ...                 3160.000      157.000   \n",
      "max                 25850.921  ...                 5391.000     7562.000   \n",
      "\n",
      "       cum_followers  cum_challenges  challenge_duration  prev_challenge  \\\n",
      "count      84522.000       84522.000           84522.000       84522.000   \n",
      "mean      112057.661          15.495               1.072           0.025   \n",
      "std       343286.115          27.144               9.225           0.158   \n",
      "min            0.000           0.000               0.000           0.000   \n",
      "25%         4000.000           0.000               0.000           0.000   \n",
      "50%        18000.000           0.000               0.000           0.000   \n",
      "75%        68600.000          22.000               0.000           0.000   \n",
      "max      3900000.000         195.000             195.000           1.000   \n",
      "\n",
      "       next_challenge  challenge_id  duration  post_challenge  \n",
      "count       84522.000     84522.000 39105.000       84522.000  \n",
      "mean            0.025       308.976     3.040           0.024  \n",
      "std             0.158       169.860     5.558           0.152  \n",
      "min             0.000         0.000     1.000           0.000  \n",
      "25%             0.000       140.000     1.000           0.000  \n",
      "50%             0.000       371.000     1.000           0.000  \n",
      "75%             0.000       446.000     2.000           0.000  \n",
      "max             1.000       542.000    32.000           1.000  \n",
      "\n",
      "[8 rows x 26 columns]\n"
     ]
    }
   ],
   "source": [
    "# Summary statistics\n",
    "print(channels.shape)\n",
    "# prevent scientific notation\n",
    "pd.set_option('display.float_format', lambda x: '%.3f' % x)\n",
    "print(channels.describe())"
   ]
  },
  {
   "cell_type": "code",
   "execution_count": 12,
   "metadata": {},
   "outputs": [
    {
     "data": {
      "text/plain": [
       "count   84522.000\n",
       "mean        0.071\n",
       "std         0.276\n",
       "min         0.000\n",
       "25%         0.019\n",
       "50%         0.039\n",
       "75%         0.066\n",
       "max        29.334\n",
       "Name: views_per_follower, dtype: float64"
      ]
     },
     "execution_count": 12,
     "metadata": {},
     "output_type": "execute_result"
    }
   ],
   "source": [
    "# views per followers\n",
    "channels['views_per_follower'] = channels['views'] / channels['total_followers']\n",
    "channels.views_per_follower.describe()"
   ]
  },
  {
   "cell_type": "code",
   "execution_count": 15,
   "metadata": {},
   "outputs": [
    {
     "name": "stdout",
     "output_type": "stream",
     "text": [
      "            creator_id        date  none  Appearance  Competence  Enjoyment  \\\n",
      "0  262h9yTG1f03Nobo501  2020-11-05 0.000       0.000       0.000      0.000   \n",
      "1  262h9yTG1f03Nobo501  2020-11-11 0.000       0.000       0.000      0.000   \n",
      "2  262h9yTG1f03Nobo501  2020-11-12 0.000       0.000       0.000      0.000   \n",
      "3  262h9yTG1f03Nobo501  2020-11-13 0.000       0.000       0.000      1.000   \n",
      "4  262h9yTG1f03Nobo501  2020-11-14 0.000       0.000       0.000      1.000   \n",
      "\n",
      "   Fitness  Social  other  \n",
      "0    0.000   0.000  1.000  \n",
      "1    0.000   0.000 28.000  \n",
      "2    0.000   0.000 46.000  \n",
      "3    0.000   0.000 41.000  \n",
      "4    1.000   0.000 44.000  \n"
     ]
    }
   ],
   "source": [
    "# Channel Comments\n",
    "comments = pd.read_csv(Path+\"channel_day_010324.csv\")\n",
    "print(comments.head())"
   ]
  },
  {
   "cell_type": "code",
   "execution_count": 17,
   "metadata": {},
   "outputs": [
    {
     "name": "stdout",
     "output_type": "stream",
     "text": [
      "(48673, 9)\n",
      "           none  Appearance  Competence  Enjoyment   Fitness    Social  \\\n",
      "count 48673.000   48673.000   48673.000  48673.000 48673.000 48673.000   \n",
      "mean      0.002       0.004       0.012      0.130     0.082     0.003   \n",
      "std       0.046       0.068       0.127      0.727     0.408     0.067   \n",
      "min       0.000       0.000       0.000      0.000     0.000     0.000   \n",
      "25%       0.000       0.000       0.000      0.000     0.000     0.000   \n",
      "50%       0.000       0.000       0.000      0.000     0.000     0.000   \n",
      "75%       0.000       0.000       0.000      0.000     0.000     0.000   \n",
      "max       2.000       3.000       8.000     47.000    19.000     7.000   \n",
      "\n",
      "          other  \n",
      "count 48673.000  \n",
      "mean     16.395  \n",
      "std      61.745  \n",
      "min       0.000  \n",
      "25%       2.000  \n",
      "50%       5.000  \n",
      "75%      14.000  \n",
      "max    3226.000  \n"
     ]
    }
   ],
   "source": [
    "print(comments.shape)\n",
    "print(comments.describe())"
   ]
  },
  {
   "cell_type": "code",
   "execution_count": 24,
   "metadata": {},
   "outputs": [
    {
     "data": {
      "text/html": [
       "<div>\n",
       "<style scoped>\n",
       "    .dataframe tbody tr th:only-of-type {\n",
       "        vertical-align: middle;\n",
       "    }\n",
       "\n",
       "    .dataframe tbody tr th {\n",
       "        vertical-align: top;\n",
       "    }\n",
       "\n",
       "    .dataframe thead th {\n",
       "        text-align: right;\n",
       "    }\n",
       "</style>\n",
       "<table border=\"1\" class=\"dataframe\">\n",
       "  <thead>\n",
       "    <tr style=\"text-align: right;\">\n",
       "      <th></th>\n",
       "      <th>Competence</th>\n",
       "      <th>Enjoyment</th>\n",
       "      <th>Fitness</th>\n",
       "      <th>Social</th>\n",
       "      <th>other</th>\n",
       "    </tr>\n",
       "  </thead>\n",
       "  <tbody>\n",
       "    <tr>\n",
       "      <th>count</th>\n",
       "      <td>84522.000</td>\n",
       "      <td>84522.000</td>\n",
       "      <td>84522.000</td>\n",
       "      <td>84522.000</td>\n",
       "      <td>84522.000</td>\n",
       "    </tr>\n",
       "    <tr>\n",
       "      <th>mean</th>\n",
       "      <td>0.007</td>\n",
       "      <td>0.077</td>\n",
       "      <td>0.050</td>\n",
       "      <td>0.002</td>\n",
       "      <td>9.901</td>\n",
       "    </tr>\n",
       "    <tr>\n",
       "      <th>std</th>\n",
       "      <td>0.098</td>\n",
       "      <td>0.561</td>\n",
       "      <td>0.328</td>\n",
       "      <td>0.051</td>\n",
       "      <td>48.454</td>\n",
       "    </tr>\n",
       "    <tr>\n",
       "      <th>min</th>\n",
       "      <td>0.000</td>\n",
       "      <td>0.000</td>\n",
       "      <td>0.000</td>\n",
       "      <td>0.000</td>\n",
       "      <td>0.000</td>\n",
       "    </tr>\n",
       "    <tr>\n",
       "      <th>25%</th>\n",
       "      <td>0.000</td>\n",
       "      <td>0.000</td>\n",
       "      <td>0.000</td>\n",
       "      <td>0.000</td>\n",
       "      <td>0.000</td>\n",
       "    </tr>\n",
       "    <tr>\n",
       "      <th>50%</th>\n",
       "      <td>0.000</td>\n",
       "      <td>0.000</td>\n",
       "      <td>0.000</td>\n",
       "      <td>0.000</td>\n",
       "      <td>1.000</td>\n",
       "    </tr>\n",
       "    <tr>\n",
       "      <th>75%</th>\n",
       "      <td>0.000</td>\n",
       "      <td>0.000</td>\n",
       "      <td>0.000</td>\n",
       "      <td>0.000</td>\n",
       "      <td>7.000</td>\n",
       "    </tr>\n",
       "    <tr>\n",
       "      <th>max</th>\n",
       "      <td>8.000</td>\n",
       "      <td>47.000</td>\n",
       "      <td>19.000</td>\n",
       "      <td>7.000</td>\n",
       "      <td>3226.000</td>\n",
       "    </tr>\n",
       "  </tbody>\n",
       "</table>\n",
       "</div>"
      ],
      "text/plain": [
       "       Competence  Enjoyment   Fitness    Social     other\n",
       "count   84522.000  84522.000 84522.000 84522.000 84522.000\n",
       "mean        0.007      0.077     0.050     0.002     9.901\n",
       "std         0.098      0.561     0.328     0.051    48.454\n",
       "min         0.000      0.000     0.000     0.000     0.000\n",
       "25%         0.000      0.000     0.000     0.000     0.000\n",
       "50%         0.000      0.000     0.000     0.000     1.000\n",
       "75%         0.000      0.000     0.000     0.000     7.000\n",
       "max         8.000     47.000    19.000     7.000  3226.000"
      ]
     },
     "execution_count": 24,
     "metadata": {},
     "output_type": "execute_result"
    }
   ],
   "source": [
    "channels.merge(comments, on=['creator_id', 'date'], how='left').iloc[:,-5:].fillna(0).describe()"
   ]
  },
  {
   "cell_type": "code",
   "execution_count": 31,
   "metadata": {},
   "outputs": [
    {
     "name": "stdout",
     "output_type": "stream",
     "text": [
      "(827552, 16)\n",
      "      video_id                   user_id  \\\n",
      "0  YxySUy2jU_s  UCLqs5JoktNvfrQZimZ8Gl5g   \n",
      "1  YxySUy2jU_s  UCLqs5JoktNvfrQZimZ8Gl5g   \n",
      "2  YxySUy2jU_s  UCLMqrKUz0vnpsM0haZmHmQA   \n",
      "3  YxySUy2jU_s  UCASrUw6lnbPK4p5plkVFtqw   \n",
      "4  YxySUy2jU_s  UCspkSCEGRikNmsoRGJwG1MQ   \n",
      "\n",
      "                                        comment_text  no_likes  no_replies  \\\n",
      "0  I loved doing this video with my dad I think i...     8.000       0.000   \n",
      "1             bre is very good at yoga same with Flo    10.000       0.000   \n",
      "2  Of course I can add 15 more minutes to round o...     7.000       0.000   \n",
      "3  Thanks for helping round out my routine, was q...     5.000       0.000   \n",
      "4          First thing tomorrow morning! Thank you 🙏     2.000       0.000   \n",
      "\n",
      "   comment_year  comment_month  comment_day  Appearance  Enjoyment  Fitness  \\\n",
      "0          2021              4           13       0.000      0.000    0.000   \n",
      "1          2021              4           13       0.000      0.000    0.000   \n",
      "2          2021              4           13       0.000      0.000    0.000   \n",
      "3          2021              4           13       0.000      0.000    0.000   \n",
      "4          2021              4           13       0.000      0.000    0.000   \n",
      "\n",
      "   Competence  Social  max_score  label        date  \n",
      "0       0.000   0.000      0.000  other  2021-04-13  \n",
      "1       0.000   0.000      0.000  other  2021-04-13  \n",
      "2       0.000   0.000      0.000  other  2021-04-13  \n",
      "3       0.000   0.000      0.000  other  2021-04-13  \n",
      "4       0.000   0.000      0.000  other  2021-04-13  \n"
     ]
    }
   ],
   "source": [
    "# load raw comments\n",
    "raw_comments = pd.read_csv(Path+\"labeled_comments_scores_030124.csv\")\n",
    "print(raw_comments.shape)\n",
    "print(raw_comments.head())"
   ]
  },
  {
   "cell_type": "code",
   "execution_count": 32,
   "metadata": {},
   "outputs": [
    {
     "name": "stdout",
     "output_type": "stream",
     "text": [
      "video_id         0\n",
      "user_id          0\n",
      "comment_text     0\n",
      "no_likes         0\n",
      "no_replies       0\n",
      "comment_year     0\n",
      "comment_month    0\n",
      "comment_day      0\n",
      "Appearance       0\n",
      "Enjoyment        0\n",
      "Fitness          0\n",
      "Competence       0\n",
      "Social           0\n",
      "max_score        0\n",
      "label            0\n",
      "date             0\n",
      "creator_id       0\n",
      "dtype: int64\n"
     ]
    }
   ],
   "source": [
    "videos = pd.read_csv(os.path.join(Path, \"videos_101223.csv\"))\n",
    "raw_comments['creator_id'] = raw_comments.merge(videos,how='left',on='video_id').creator_id.values\n",
    "raw_comments = raw_comments.dropna(subset=['creator_id'])\n",
    "print(raw_comments.isnull().sum())"
   ]
  },
  {
   "cell_type": "code",
   "execution_count": 34,
   "metadata": {},
   "outputs": [
    {
     "data": {
      "text/plain": [
       "count   84522.000\n",
       "mean       10.041\n",
       "std        49.156\n",
       "min         0.000\n",
       "25%         0.000\n",
       "50%         1.000\n",
       "75%         7.000\n",
       "max      3262.000\n",
       "Name: label, dtype: float64"
      ]
     },
     "execution_count": 34,
     "metadata": {},
     "output_type": "execute_result"
    }
   ],
   "source": [
    "# table 3 (panel b) total comments\n",
    "comments_channel = raw_comments.fillna(0).groupby(['creator_id','date']).label.count().fillna(0).reset_index()\n",
    "channels.merge(comments_channel, on=['creator_id', 'date'], how='left').fillna(0).label.describe()"
   ]
  },
  {
   "cell_type": "code",
   "execution_count": 38,
   "metadata": {},
   "outputs": [
    {
     "name": "stdout",
     "output_type": "stream",
     "text": [
      "0   0.000\n",
      "1   0.000\n",
      "2   0.000\n",
      "3   0.000\n",
      "4   0.000\n",
      "Name: label, dtype: float64\n",
      "count   360341505.000\n",
      "mean            0.002\n",
      "std             0.050\n",
      "min             0.000\n",
      "25%             0.000\n",
      "50%             0.000\n",
      "75%             0.000\n",
      "max            52.000\n",
      "Name: label, dtype: float64\n"
     ]
    }
   ],
   "source": [
    "# table 3 (panel c) individual users\n",
    "users = raw_comments.user_id.unique()\n",
    "dates = channels.date.unique()\n",
    "# create a long-formatted panel dataframe for user id and time periods\n",
    "user_panel = pd.DataFrame({'user_id': np.repeat(users,len(dates)), 'date': np.tile(dates,len(users))})\n",
    "# merge with raw comments\n",
    "groupbed_comments = raw_comments.groupby(['user_id','date']).label.count().fillna(0).reset_index()\n",
    "user_panel = user_panel.merge(groupbed_comments, on=['user_id','date'], how='left').label.fillna(0)\n",
    "print(user_panel.head())\n",
    "print(user_panel.describe())"
   ]
  }
 ],
 "metadata": {
  "kernelspec": {
   "display_name": "fb",
   "language": "python",
   "name": "python3"
  },
  "language_info": {
   "codemirror_mode": {
    "name": "ipython",
    "version": 3
   },
   "file_extension": ".py",
   "mimetype": "text/x-python",
   "name": "python",
   "nbconvert_exporter": "python",
   "pygments_lexer": "ipython3",
   "version": "3.9.2"
  }
 },
 "nbformat": 4,
 "nbformat_minor": 2
}
