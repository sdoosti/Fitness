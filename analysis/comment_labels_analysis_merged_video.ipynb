{
 "cells": [
  {
   "cell_type": "code",
   "execution_count": 2,
   "metadata": {},
   "outputs": [],
   "source": [
    "import pandas as pd\n",
    "import os\n",
    "import numpy as np"
   ]
  },
  {
   "cell_type": "code",
   "execution_count": 54,
   "metadata": {},
   "outputs": [],
   "source": [
    "path = \"C:/Users/doosti/Dropbox (Chapman)/Research/Research Projects/Fitness/Data/\"\n",
    "file = \"labeled_comments_scores.csv\" # previous version: labeled_comments.csv does not have scores"
   ]
  },
  {
   "cell_type": "code",
   "execution_count": 55,
   "metadata": {},
   "outputs": [],
   "source": [
    "comments_labeled = pd.read_csv(os.path.join(path, file))\n",
    "comments = pd.read_csv(os.path.join(path, \"merged_comments.csv\"))\n",
    "videos = pd.read_csv(os.path.join(path, \"videos_101223.csv\"))\n",
    "videos_trends = pd.read_csv(os.path.join(path, \"final_yoga_videos_tends_101023.csv\"))\n",
    "trends = pd.read_csv(os.path.join(path, \"final_yoga_channels_trends_091523.csv\"))\n",
    "# matching with the creator id\n",
    "#comments['creator_id'] = comments.merge(videos,how='left',on='video_id').creator_id.values\n",
    "#comments_labeled['creator_id'] = comments_labeled.merge(videos,how='left',on='video_id').creator_id.values"
   ]
  },
  {
   "cell_type": "code",
   "execution_count": 35,
   "metadata": {},
   "outputs": [
    {
     "name": "stdout",
     "output_type": "stream",
     "text": [
      "Index(['video_id', 'title', 'creator', 'creator_id', 'publish_date',\n",
      "       'duration', 'v1', 'v2', 'v3', 'v7', 'v30', 'e1', 'e2', 'e3', 'e7',\n",
      "       'e30', 'views', 'enagement', 'likes', 'shares', 'comments', 'keywords',\n",
      "       'topics', 'challenge'],\n",
      "      dtype='object')\n"
     ]
    }
   ],
   "source": [
    "print(videos.columns)"
   ]
  },
  {
   "cell_type": "code",
   "execution_count": 36,
   "metadata": {},
   "outputs": [
    {
     "name": "stdout",
     "output_type": "stream",
     "text": [
      "      video_id        date   views  engagements\n",
      "0  CpoaI_rVRXU  2023-09-06  2023.0        100.0\n",
      "1  CpoaI_rVRXU  2023-09-07   918.0          5.0\n",
      "2  CpoaI_rVRXU  2023-09-08    45.0          1.0\n",
      "3  CpoaI_rVRXU  2023-09-09    33.0          0.0\n",
      "4  CpoaI_rVRXU  2023-09-10    36.0          0.0\n"
     ]
    }
   ],
   "source": [
    "print(videos_trends.head())"
   ]
  },
  {
   "cell_type": "code",
   "execution_count": 56,
   "metadata": {},
   "outputs": [
    {
     "name": "stdout",
     "output_type": "stream",
     "text": [
      "      video_id                   user_id  \\\n",
      "0  YxySUy2jU_s  UCLqs5JoktNvfrQZimZ8Gl5g   \n",
      "1  YxySUy2jU_s  UCLqs5JoktNvfrQZimZ8Gl5g   \n",
      "2  YxySUy2jU_s  UCLMqrKUz0vnpsM0haZmHmQA   \n",
      "3  YxySUy2jU_s  UCASrUw6lnbPK4p5plkVFtqw   \n",
      "4  YxySUy2jU_s  UCspkSCEGRikNmsoRGJwG1MQ   \n",
      "\n",
      "                                        comment_text  no_likes  no_replies  \\\n",
      "0  I loved doing this video with my dad I think i...       8.0         0.0   \n",
      "1             bre is very good at yoga same with Flo      10.0         0.0   \n",
      "2  Of course I can add 15 more minutes to round o...       7.0         0.0   \n",
      "3  Thanks for helping round out my routine, was q...       5.0         0.0   \n",
      "4          First thing tomorrow morning! Thank you 🙏       2.0         0.0   \n",
      "\n",
      "   comment_year  comment_month  comment_day  \n",
      "0        2021.0            4.0         13.0  \n",
      "1        2021.0            4.0         13.0  \n",
      "2        2021.0            4.0         13.0  \n",
      "3        2021.0            4.0         13.0  \n",
      "4        2021.0            4.0         13.0  \n"
     ]
    }
   ],
   "source": [
    "print(comments.head())"
   ]
  },
  {
   "cell_type": "code",
   "execution_count": 57,
   "metadata": {},
   "outputs": [
    {
     "name": "stdout",
     "output_type": "stream",
     "text": [
      "      video_id                   user_id  \\\n",
      "0  YxySUy2jU_s  UCLqs5JoktNvfrQZimZ8Gl5g   \n",
      "1  YxySUy2jU_s  UCLqs5JoktNvfrQZimZ8Gl5g   \n",
      "2  YxySUy2jU_s  UCLMqrKUz0vnpsM0haZmHmQA   \n",
      "3  YxySUy2jU_s  UCASrUw6lnbPK4p5plkVFtqw   \n",
      "4  YxySUy2jU_s  UCspkSCEGRikNmsoRGJwG1MQ   \n",
      "\n",
      "                                        comment_text  no_likes  no_replies  \\\n",
      "0  I loved doing this video with my dad I think i...       8.0         0.0   \n",
      "1             bre is very good at yoga same with Flo      10.0         0.0   \n",
      "2  Of course I can add 15 more minutes to round o...       7.0         0.0   \n",
      "3  Thanks for helping round out my routine, was q...       5.0         0.0   \n",
      "4          First thing tomorrow morning! Thank you 🙏       2.0         0.0   \n",
      "\n",
      "   comment_year  comment_month  comment_day  compentence  interest  \\\n",
      "0        2021.0            4.0         13.0          NaN       NaN   \n",
      "1        2021.0            4.0         13.0          NaN       NaN   \n",
      "2        2021.0            4.0         13.0          NaN       NaN   \n",
      "3        2021.0            4.0         13.0          NaN       NaN   \n",
      "4        2021.0            4.0         13.0          NaN       NaN   \n",
      "\n",
      "   appearance  fitness  social label  label_score  \n",
      "0         NaN      NaN     NaN   NaN          NaN  \n",
      "1         NaN      NaN     NaN   NaN          NaN  \n",
      "2         NaN      NaN     NaN   NaN          NaN  \n",
      "3         NaN      NaN     NaN   NaN          NaN  \n",
      "4         NaN      NaN     NaN   NaN          NaN  \n"
     ]
    }
   ],
   "source": [
    "print(comments_labeled.head())"
   ]
  },
  {
   "cell_type": "code",
   "execution_count": 58,
   "metadata": {},
   "outputs": [
    {
     "name": "stdout",
     "output_type": "stream",
     "text": [
      "(827566, 15)\n",
      "(827552, 15)\n",
      "video_id              0\n",
      "user_id               0\n",
      "comment_text        100\n",
      "no_likes              0\n",
      "no_replies            0\n",
      "comment_year          0\n",
      "comment_month         0\n",
      "comment_day           0\n",
      "compentence      605574\n",
      "interest         605574\n",
      "appearance       605574\n",
      "fitness          605574\n",
      "social           605574\n",
      "label            605574\n",
      "label_score      605574\n",
      "dtype: int64\n"
     ]
    }
   ],
   "source": [
    "# threshold = 11\n",
    "comments_labeled = comments_labeled[comments_labeled.video_id.str.len() == 11].copy()\n",
    "print(comments_labeled.shape)\n",
    "# drop rows with missing year, month, or day\n",
    "comments_labeled = comments_labeled.dropna(subset=['comment_year', 'comment_month', 'comment_day'])\n",
    "print(comments_labeled.shape)\n",
    "print(comments_labeled.isnull().sum())"
   ]
  },
  {
   "cell_type": "code",
   "execution_count": 59,
   "metadata": {},
   "outputs": [],
   "source": [
    "# Create a function to format and convert the date\n",
    "def to_datetime_with_padding(year, month, day):\n",
    "    # Pad month and day with zeros if necessary\n",
    "    month = f\"{month:02d}\"\n",
    "    day = f\"{day:02d}\"\n",
    "    # Combine and convert to datetime\n",
    "    date_str = f\"{year}-{month}-{day}\"\n",
    "    return pd.to_datetime(date_str)\n",
    "\n",
    "comments_labeled['comment_year'] = comments_labeled.comment_year.astype(int)\n",
    "comments_labeled['comment_month'] = comments_labeled.comment_month.astype(int)\n",
    "comments_labeled['comment_day'] = comments_labeled.comment_day.astype(int)\n",
    "\n",
    "# Apply the function to each row\n",
    "comments_labeled['date'] = comments_labeled.apply(lambda row: to_datetime_with_padding(row[\"comment_year\"], row[\"comment_month\"], row[\"comment_day\"]), axis=1)"
   ]
  },
  {
   "cell_type": "code",
   "execution_count": 91,
   "metadata": {},
   "outputs": [],
   "source": [
    "# fix a typo\n",
    "comments_labeled = comments_labeled.rename(columns= {'compentence': 'competence'})"
   ]
  },
  {
   "cell_type": "code",
   "execution_count": 92,
   "metadata": {},
   "outputs": [],
   "source": [
    "comments_labeled.fillna(0).to_csv(os.path.join(path, \"labeled_comments_scores_edited.csv\"), index=False)"
   ]
  },
  {
   "cell_type": "code",
   "execution_count": 72,
   "metadata": {},
   "outputs": [
    {
     "name": "stdout",
     "output_type": "stream",
     "text": [
      "video_id              0\n",
      "user_id               0\n",
      "comment_text        100\n",
      "no_likes              0\n",
      "no_replies            0\n",
      "comment_year          0\n",
      "comment_month         0\n",
      "comment_day           0\n",
      "compentence      591418\n",
      "interest         591418\n",
      "appearance       591418\n",
      "fitness          591418\n",
      "social           591418\n",
      "label            591418\n",
      "label_score      591418\n",
      "date                  0\n",
      "creator_id            0\n",
      "dtype: int64\n"
     ]
    }
   ],
   "source": [
    "# merging with video dataset\n",
    "#comments_labeled = \n",
    "comments_labeled['creator_id'] = comments_labeled.merge(videos,how='left',on='video_id').creator_id.values\n",
    "comments_labeled = comments_labeled.dropna(subset=['creator_id'])\n",
    "print(comments_labeled.isnull().sum())"
   ]
  },
  {
   "cell_type": "code",
   "execution_count": 87,
   "metadata": {},
   "outputs": [
    {
     "name": "stdout",
     "output_type": "stream",
     "text": [
      "(48673, 8)\n",
      "71\n",
      "label           creator_id       date  none  appearance  competence  fitness  \\\n",
      "0      262h9yTG1f03Nobo501 2020-11-05   1.0         0.0         0.0      0.0   \n",
      "1      262h9yTG1f03Nobo501 2020-11-11  25.0         0.0         3.0      0.0   \n",
      "2      262h9yTG1f03Nobo501 2020-11-12  37.0         0.0         7.0      1.0   \n",
      "3      262h9yTG1f03Nobo501 2020-11-13  34.0         0.0         5.0      2.0   \n",
      "4      262h9yTG1f03Nobo501 2020-11-14  34.0         0.0         4.0      6.0   \n",
      "\n",
      "label  interest  social  \n",
      "0           0.0     0.0  \n",
      "1           0.0     0.0  \n",
      "2           1.0     0.0  \n",
      "3           1.0     0.0  \n",
      "4           2.0     0.0  \n"
     ]
    }
   ],
   "source": [
    "channel_day = comments_labeled.fillna(0).groupby(['creator_id','date']).label.value_counts().unstack().reset_index()\n",
    "channel_day = channel_day.fillna(0)\n",
    "channel_day = channel_day.rename(columns={0:'none'})\n",
    "print(channel_day.shape)\n",
    "print(channel_day.creator_id.nunique())\n",
    "print(channel_day.head())\n"
   ]
  },
  {
   "cell_type": "code",
   "execution_count": 88,
   "metadata": {},
   "outputs": [],
   "source": [
    "channel_day.to_csv(os.path.join(path, \"channel_day.csv\"), index=False)"
   ]
  },
  {
   "cell_type": "code",
   "execution_count": 95,
   "metadata": {},
   "outputs": [
    {
     "name": "stdout",
     "output_type": "stream",
     "text": [
      "(48673, 9)\n",
      "            creator_id       date  competence  appearance   fitness  interest  \\\n",
      "0  262h9yTG1f03Nobo501 2020-11-05    0.000000         0.0  0.000000  0.000000   \n",
      "1  262h9yTG1f03Nobo501 2020-11-11    0.445001         0.0  0.000000  0.000000   \n",
      "2  262h9yTG1f03Nobo501 2020-11-12    0.000000         0.0  0.639770  0.714219   \n",
      "3  262h9yTG1f03Nobo501 2020-11-13    0.000000         0.0  1.225794  0.548560   \n",
      "4  262h9yTG1f03Nobo501 2020-11-14    0.000000         0.0  4.965698  1.349038   \n",
      "\n",
      "   social  no_comments  no_users  \n",
      "0     0.0            1         1  \n",
      "1     0.0           28        28  \n",
      "2     0.0           46        41  \n",
      "3     0.0           42        36  \n",
      "4     0.0           46        36  \n",
      "creator_id     0\n",
      "date           0\n",
      "competence     0\n",
      "appearance     0\n",
      "fitness        0\n",
      "interest       0\n",
      "social         0\n",
      "no_comments    0\n",
      "no_users       0\n",
      "dtype: int64\n"
     ]
    }
   ],
   "source": [
    "# Channel day with scores\n",
    "cols = ['competence','appearance','fitness','interest','social']\n",
    "channel_day_scores = comments_labeled.fillna(0).groupby(['creator_id','date'])[cols].sum().reset_index()\n",
    "channel_day_scores.head()\n",
    "channel_day_scores['no_comments'] = comments_labeled.groupby(['creator_id','date']).comment_text.count().values\n",
    "channel_day_scores['no_users'] = comments_labeled.groupby(['creator_id','date']).user_id.nunique().values\n",
    "\n",
    "print(channel_day_scores.shape)\n",
    "print(channel_day_scores.head())\n",
    "print(channel_day_scores.isnull().sum())\n",
    "\n",
    "channel_day_scores.to_csv(os.path.join(path, \"channel_day_scores.csv\"), index=False)"
   ]
  },
  {
   "cell_type": "code",
   "execution_count": 96,
   "metadata": {},
   "outputs": [
    {
     "name": "stdout",
     "output_type": "stream",
     "text": [
      "number of creators with comments: 71, out of 75 creators in trends\n"
     ]
    }
   ],
   "source": [
    "channel_day = pd.read_csv(os.path.join(path, \"channel_day.csv\"))\n",
    "merged = trends.merge(channel_day,how='left',on=['creator_id','date']) #.to_csv(os.path.join(path, \"trends_channel_day.csv\"), index=False)\n",
    "merged.isnull().sum()\n",
    "print(f\"number of creators with comments: {merged[merged.appearance.notnull()].creator_id.nunique()}, out of {merged.creator_id.nunique()} creators in trends\")\n",
    "# there seems to be a problem with the data set, the number of creators with comments is less than the number of creators in trends"
   ]
  },
  {
   "cell_type": "markdown",
   "metadata": {},
   "source": [
    "## Individual Level Data"
   ]
  },
  {
   "cell_type": "code",
   "execution_count": 52,
   "metadata": {},
   "outputs": [],
   "source": [
    "comments_labeled.groupby(['user_id','date']).comment_text.count().reset_index().to_csv(os.path.join(path, \"user_day.csv\"), index=False)"
   ]
  },
  {
   "cell_type": "markdown",
   "metadata": {},
   "source": [
    "## Summary Statistics"
   ]
  },
  {
   "cell_type": "code",
   "execution_count": 105,
   "metadata": {},
   "outputs": [
    {
     "data": {
      "text/plain": [
       "challenge\n",
       "False    602105\n",
       "True     207216\n",
       "Name: count, dtype: int64"
      ]
     },
     "execution_count": 105,
     "metadata": {},
     "output_type": "execute_result"
    }
   ],
   "source": [
    "comments_labeled['challenge'] = comments_labeled.merge(videos,how='left',on='video_id').challenge.values\n",
    "comments_labeled.challenge.value_counts()"
   ]
  },
  {
   "cell_type": "code",
   "execution_count": 119,
   "metadata": {},
   "outputs": [
    {
     "data": {
      "text/html": [
       "<div>\n",
       "<style scoped>\n",
       "    .dataframe tbody tr th:only-of-type {\n",
       "        vertical-align: middle;\n",
       "    }\n",
       "\n",
       "    .dataframe tbody tr th {\n",
       "        vertical-align: top;\n",
       "    }\n",
       "\n",
       "    .dataframe thead th {\n",
       "        text-align: right;\n",
       "    }\n",
       "</style>\n",
       "<table border=\"1\" class=\"dataframe\">\n",
       "  <thead>\n",
       "    <tr style=\"text-align: right;\">\n",
       "      <th>label</th>\n",
       "      <th>challenge</th>\n",
       "      <th>appearance</th>\n",
       "      <th>competence</th>\n",
       "      <th>fitness</th>\n",
       "      <th>interest</th>\n",
       "      <th>social</th>\n",
       "    </tr>\n",
       "  </thead>\n",
       "  <tbody>\n",
       "    <tr>\n",
       "      <th>0</th>\n",
       "      <td>False</td>\n",
       "      <td>0.003235</td>\n",
       "      <td>0.167793</td>\n",
       "      <td>0.044100</td>\n",
       "      <td>0.021619</td>\n",
       "      <td>0.002129</td>\n",
       "    </tr>\n",
       "    <tr>\n",
       "      <th>1</th>\n",
       "      <td>True</td>\n",
       "      <td>0.001650</td>\n",
       "      <td>0.280114</td>\n",
       "      <td>0.040991</td>\n",
       "      <td>0.032107</td>\n",
       "      <td>0.002611</td>\n",
       "    </tr>\n",
       "  </tbody>\n",
       "</table>\n",
       "</div>"
      ],
      "text/plain": [
       "label  challenge  appearance  competence   fitness  interest    social\n",
       "0          False    0.003235    0.167793  0.044100  0.021619  0.002129\n",
       "1           True    0.001650    0.280114  0.040991  0.032107  0.002611"
      ]
     },
     "execution_count": 119,
     "metadata": {},
     "output_type": "execute_result"
    }
   ],
   "source": [
    "# ratio of comments for challenge and non-challenge videos\n",
    "summary = comments_labeled.groupby(['challenge']).label.value_counts().unstack().reset_index()\n",
    "summary.iloc[:,1:] = summary.iloc[:,1:] / comments_labeled.challenge.value_counts().values.reshape(-1,1)\n",
    "summary"
   ]
  }
 ],
 "metadata": {
  "kernelspec": {
   "display_name": "ctopics",
   "language": "python",
   "name": "python3"
  },
  "language_info": {
   "codemirror_mode": {
    "name": "ipython",
    "version": 3
   },
   "file_extension": ".py",
   "mimetype": "text/x-python",
   "name": "python",
   "nbconvert_exporter": "python",
   "pygments_lexer": "ipython3",
   "version": "3.8.18"
  }
 },
 "nbformat": 4,
 "nbformat_minor": 2
}
