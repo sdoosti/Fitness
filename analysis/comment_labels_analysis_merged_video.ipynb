{
 "cells": [
  {
   "cell_type": "code",
   "execution_count": 2,
   "metadata": {},
   "outputs": [],
   "source": [
    "import pandas as pd\n",
    "import os\n",
    "import numpy as np"
   ]
  },
  {
   "cell_type": "code",
   "execution_count": 3,
   "metadata": {},
   "outputs": [],
   "source": [
    "path = \"C:/Users/doosti/Dropbox (Chapman)/Research/Research Projects/Fitness/Data/\"\n",
    "file = \"labeled_comments.csv\""
   ]
  },
  {
   "cell_type": "code",
   "execution_count": 32,
   "metadata": {},
   "outputs": [
    {
     "name": "stderr",
     "output_type": "stream",
     "text": [
      "C:\\Users\\doosti\\AppData\\Local\\Temp\\ipykernel_357096\\3566640832.py:1: DtypeWarning: Columns (8) have mixed types. Specify dtype option on import or set low_memory=False.\n",
      "  comments_labeled = pd.read_csv(os.path.join(path, file))\n"
     ]
    }
   ],
   "source": [
    "comments_labeled = pd.read_csv(os.path.join(path, file))\n",
    "comments = pd.read_csv(os.path.join(path, \"merged_comments.csv\"))\n",
    "videos = pd.read_csv(os.path.join(path, \"videos_101223.csv\"))\n",
    "videos_trends = pd.read_csv(os.path.join(path, \"final_yoga_videos_tends_101023.csv\"))\n",
    "trends = pd.read_csv(os.path.join(path, \"final_yoga_channels_trends_091523.csv\"))\n",
    "# matching with the creator id\n",
    "#comments['creator_id'] = comments.merge(videos,how='left',on='video_id').creator_id.values\n",
    "#comments_labeled['creator_id'] = comments_labeled.merge(videos,how='left',on='video_id').creator_id.values"
   ]
  },
  {
   "cell_type": "code",
   "execution_count": 35,
   "metadata": {},
   "outputs": [
    {
     "name": "stdout",
     "output_type": "stream",
     "text": [
      "Index(['video_id', 'title', 'creator', 'creator_id', 'publish_date',\n",
      "       'duration', 'v1', 'v2', 'v3', 'v7', 'v30', 'e1', 'e2', 'e3', 'e7',\n",
      "       'e30', 'views', 'enagement', 'likes', 'shares', 'comments', 'keywords',\n",
      "       'topics', 'challenge'],\n",
      "      dtype='object')\n"
     ]
    }
   ],
   "source": [
    "print(videos.columns)"
   ]
  },
  {
   "cell_type": "code",
   "execution_count": 36,
   "metadata": {},
   "outputs": [
    {
     "name": "stdout",
     "output_type": "stream",
     "text": [
      "      video_id        date   views  engagements\n",
      "0  CpoaI_rVRXU  2023-09-06  2023.0        100.0\n",
      "1  CpoaI_rVRXU  2023-09-07   918.0          5.0\n",
      "2  CpoaI_rVRXU  2023-09-08    45.0          1.0\n",
      "3  CpoaI_rVRXU  2023-09-09    33.0          0.0\n",
      "4  CpoaI_rVRXU  2023-09-10    36.0          0.0\n"
     ]
    }
   ],
   "source": [
    "print(videos_trends.head())"
   ]
  },
  {
   "cell_type": "code",
   "execution_count": 37,
   "metadata": {},
   "outputs": [
    {
     "name": "stdout",
     "output_type": "stream",
     "text": [
      "      video_id                   user_id  \\\n",
      "0  YxySUy2jU_s  UCLqs5JoktNvfrQZimZ8Gl5g   \n",
      "1  YxySUy2jU_s  UCLqs5JoktNvfrQZimZ8Gl5g   \n",
      "2  YxySUy2jU_s  UCLMqrKUz0vnpsM0haZmHmQA   \n",
      "3  YxySUy2jU_s  UCASrUw6lnbPK4p5plkVFtqw   \n",
      "4  YxySUy2jU_s  UCspkSCEGRikNmsoRGJwG1MQ   \n",
      "\n",
      "                                        comment_text  no_likes  no_replies  \\\n",
      "0  I loved doing this video with my dad I think i...       8.0         0.0   \n",
      "1             bre is very good at yoga same with Flo      10.0         0.0   \n",
      "2  Of course I can add 15 more minutes to round o...       7.0         0.0   \n",
      "3  Thanks for helping round out my routine, was q...       5.0         0.0   \n",
      "4          First thing tomorrow morning! Thank you 🙏       2.0         0.0   \n",
      "\n",
      "   comment_year  comment_month  comment_day  \n",
      "0        2021.0            4.0         13.0  \n",
      "1        2021.0            4.0         13.0  \n",
      "2        2021.0            4.0         13.0  \n",
      "3        2021.0            4.0         13.0  \n",
      "4        2021.0            4.0         13.0  \n"
     ]
    }
   ],
   "source": [
    "print(comments.head())"
   ]
  },
  {
   "cell_type": "code",
   "execution_count": 40,
   "metadata": {},
   "outputs": [
    {
     "name": "stdout",
     "output_type": "stream",
     "text": [
      "(827566, 10)\n",
      "(827552, 10)\n",
      "video_id              0\n",
      "user_id               0\n",
      "comment_text        100\n",
      "no_likes              0\n",
      "no_replies            0\n",
      "comment_year          0\n",
      "comment_month         0\n",
      "comment_day           0\n",
      "label            764497\n",
      "label_score      764497\n",
      "dtype: int64\n"
     ]
    }
   ],
   "source": [
    "# threshold = 11\n",
    "comments_labeled = comments_labeled[comments_labeled.video_id.str.len() == 11].copy()\n",
    "print(comments_labeled.shape)\n",
    "# drop rows with missing year, month, or day\n",
    "comments_labeled = comments_labeled.dropna(subset=['comment_year', 'comment_month', 'comment_day'])\n",
    "print(comments_labeled.shape)\n",
    "print(comments_labeled.isnull().sum())"
   ]
  },
  {
   "cell_type": "code",
   "execution_count": 41,
   "metadata": {},
   "outputs": [],
   "source": [
    "# Create a function to format and convert the date\n",
    "def to_datetime_with_padding(year, month, day):\n",
    "    # Pad month and day with zeros if necessary\n",
    "    month = f\"{month:02d}\"\n",
    "    day = f\"{day:02d}\"\n",
    "    # Combine and convert to datetime\n",
    "    date_str = f\"{year}-{month}-{day}\"\n",
    "    return pd.to_datetime(date_str)\n",
    "\n",
    "comments_labeled['comment_year'] = comments_labeled.comment_year.astype(int)\n",
    "comments_labeled['comment_month'] = comments_labeled.comment_month.astype(int)\n",
    "comments_labeled['comment_day'] = comments_labeled.comment_day.astype(int)\n",
    "\n",
    "# Apply the function to each row\n",
    "comments_labeled['date'] = comments_labeled.apply(lambda row: to_datetime_with_padding(row[\"comment_year\"], row[\"comment_month\"], row[\"comment_day\"]), axis=1)"
   ]
  },
  {
   "cell_type": "code",
   "execution_count": 42,
   "metadata": {},
   "outputs": [
    {
     "name": "stdout",
     "output_type": "stream",
     "text": [
      "   video_id  user_id  comment_text  no_likes  no_replies  comment_year  \\\n",
      "0     False    False         False     False       False         False   \n",
      "1     False    False         False     False       False         False   \n",
      "2     False    False         False     False       False         False   \n",
      "3     False    False         False     False       False         False   \n",
      "4     False    False         False     False       False         False   \n",
      "\n",
      "   comment_month  comment_day  label  label_score   date  creator_id  \n",
      "0          False        False   True         True  False       False  \n",
      "1          False        False   True         True  False       False  \n",
      "2          False        False   True         True  False       False  \n",
      "3          False        False   True         True  False       False  \n",
      "4          False        False   True         True  False       False  \n",
      "label creator_id       date      0  appearance  competence  fitness  interest  \\\n",
      "0              0 2020-09-10    1.0         0.0         0.0      0.0       0.0   \n",
      "1              0 2020-09-15   80.0         0.0        12.0      1.0       2.0   \n",
      "2              0 2020-09-16  122.0         0.0        10.0      1.0       4.0   \n",
      "3              0 2020-09-17  172.0         0.0         9.0      6.0       3.0   \n",
      "4              0 2020-09-18  118.0         0.0         5.0      2.0       0.0   \n",
      "\n",
      "label  social  \n",
      "0         0.0  \n",
      "1         0.0  \n",
      "2         0.0  \n",
      "3         0.0  \n",
      "4         0.0  \n"
     ]
    }
   ],
   "source": [
    "# merging with video dataset\n",
    "#comments_labeled = \n",
    "comments_labeled['creator_id'] = comments_labeled.merge(videos,how='left',on='video_id').creator_id.values\n",
    "print(comments_labeled.isnull().sum())\n",
    "\n",
    "channel_day = comments_labeled.fillna(0).groupby(['creator_id','date']).label.value_counts().unstack().reset_index()\n",
    "channel_day = channel_day.fillna(0)\n",
    "print(channel_day.head())\n"
   ]
  },
  {
   "cell_type": "code",
   "execution_count": 45,
   "metadata": {},
   "outputs": [],
   "source": [
    "channel_day.to_csv(os.path.join(path, \"channel_day.csv\"), index=False)"
   ]
  },
  {
   "cell_type": "code",
   "execution_count": 47,
   "metadata": {},
   "outputs": [
    {
     "name": "stdout",
     "output_type": "stream",
     "text": [
      "number of creators with comments: 71, out of 75 creators in trends\n"
     ]
    }
   ],
   "source": [
    "channel_day = pd.read_csv(os.path.join(path, \"channel_day.csv\"))\n",
    "merged = trends.merge(channel_day,how='left',on=['creator_id','date']) #.to_csv(os.path.join(path, \"trends_channel_day.csv\"), index=False)\n",
    "merged.isnull().sum()\n",
    "print(f\"number of creators with comments: {merged[merged.appearance.notnull()].creator_id.nunique()}, out of {merged.creator_id.nunique()} creators in trends\")\n",
    "# there seems to be a problem with the data set, the number of creators with comments is less than the number of creators in trends"
   ]
  },
  {
   "cell_type": "code",
   "execution_count": 19,
   "metadata": {},
   "outputs": [
    {
     "name": "stdout",
     "output_type": "stream",
     "text": [
      "23\n"
     ]
    }
   ],
   "source": [
    "# check if the issue is with \"date\"\n",
    "merged = trends.merge(channel_day,how='left',on=['creator_id'])\n",
    "print(merged[merged.appearance.notnull()].creator_id.nunique())\n",
    "# no, the issue is not with \"date\""
   ]
  },
  {
   "cell_type": "markdown",
   "metadata": {},
   "source": [
    "## Individual Level Data"
   ]
  },
  {
   "cell_type": "code",
   "execution_count": 52,
   "metadata": {},
   "outputs": [],
   "source": [
    "comments_labeled.groupby(['user_id','date']).comment_text.count().reset_index().to_csv(os.path.join(path, \"user_day.csv\"), index=False)"
   ]
  }
 ],
 "metadata": {
  "kernelspec": {
   "display_name": "ctopics",
   "language": "python",
   "name": "python3"
  },
  "language_info": {
   "codemirror_mode": {
    "name": "ipython",
    "version": 3
   },
   "file_extension": ".py",
   "mimetype": "text/x-python",
   "name": "python",
   "nbconvert_exporter": "python",
   "pygments_lexer": "ipython3",
   "version": "3.8.18"
  }
 },
 "nbformat": 4,
 "nbformat_minor": 2
}
