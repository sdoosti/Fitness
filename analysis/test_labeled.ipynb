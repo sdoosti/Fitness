{
 "cells": [
  {
   "cell_type": "markdown",
   "metadata": {},
   "source": [
    "## Test Labels\n",
    "We test the topic models trained with all data (including the labeled comments) for accuracy. (A previous version of this document used a newly trained model. Current version uses the original model and adds new documents.)"
   ]
  },
  {
   "cell_type": "code",
   "execution_count": 1,
   "metadata": {},
   "outputs": [
    {
     "ename": "ModuleNotFoundError",
     "evalue": "No module named 'seaborn'",
     "output_type": "error",
     "traceback": [
      "\u001b[1;31m---------------------------------------------------------------------------\u001b[0m",
      "\u001b[1;31mModuleNotFoundError\u001b[0m                       Traceback (most recent call last)",
      "\u001b[1;32mUntitled-1.ipynb Cell 2\u001b[0m line \u001b[0;36m4\n\u001b[0;32m      <a href='vscode-notebook-cell:Untitled-1.ipynb?jupyter-notebook#W3sdW50aXRsZWQ%3D?line=1'>2</a>\u001b[0m \u001b[39mimport\u001b[39;00m \u001b[39mnumpy\u001b[39;00m \u001b[39mas\u001b[39;00m \u001b[39mnp\u001b[39;00m\n\u001b[0;32m      <a href='vscode-notebook-cell:Untitled-1.ipynb?jupyter-notebook#W3sdW50aXRsZWQ%3D?line=2'>3</a>\u001b[0m \u001b[39mimport\u001b[39;00m \u001b[39mmatplotlib\u001b[39;00m\u001b[39m.\u001b[39;00m\u001b[39mpyplot\u001b[39;00m \u001b[39mas\u001b[39;00m \u001b[39mplt\u001b[39;00m\n\u001b[1;32m----> <a href='vscode-notebook-cell:Untitled-1.ipynb?jupyter-notebook#W3sdW50aXRsZWQ%3D?line=3'>4</a>\u001b[0m \u001b[39mimport\u001b[39;00m \u001b[39mseaborn\u001b[39;00m \u001b[39mas\u001b[39;00m \u001b[39msns\u001b[39;00m\n\u001b[0;32m      <a href='vscode-notebook-cell:Untitled-1.ipynb?jupyter-notebook#W3sdW50aXRsZWQ%3D?line=4'>5</a>\u001b[0m \u001b[39mimport\u001b[39;00m \u001b[39mos\u001b[39;00m\n\u001b[0;32m      <a href='vscode-notebook-cell:Untitled-1.ipynb?jupyter-notebook#W3sdW50aXRsZWQ%3D?line=5'>6</a>\u001b[0m \u001b[39mimport\u001b[39;00m \u001b[39mre\u001b[39;00m\n",
      "\u001b[1;31mModuleNotFoundError\u001b[0m: No module named 'seaborn'"
     ]
    }
   ],
   "source": [
    "import pandas as pd\n",
    "import numpy as np\n",
    "import matplotlib.pyplot as plt\n",
    "import seaborn as sns\n",
    "import os\n",
    "import re\n",
    "#from top2vec import Top2Vec"
   ]
  },
  {
   "cell_type": "markdown",
   "metadata": {},
   "source": [
    "### Loading Comment Data"
   ]
  },
  {
   "cell_type": "code",
   "execution_count": 46,
   "metadata": {},
   "outputs": [],
   "source": [
    "DATA_PATH = \"C:/Users/doosti/Dropbox (Chapman)/Research/Research Projects/Fitness/Data/\"\n",
    "# processed_file=\"processed_comments_102423.txt\"\n",
    "# comments_file=\"merged_comments.csv\"\n",
    "labeled = \"comments_activity_motives.csv\"\n",
    "topics = \"labeled_comments_topics_122723.csv\"\n",
    "\n",
    "labeled = pd.read_csv(os.path.join(DATA_PATH, labeled))\n",
    "topics = pd.read_csv(os.path.join(DATA_PATH, topics))\n",
    "# comment_length=10\n",
    "# with open(os.path.join(DATA_PATH,processed_file),\"r\", encoding=\"utf-8\") as f:\n",
    "#     processed_docs = f.readlines()\n",
    "# length = [len(re.sub(\"\\d+\", \"\", x.strip()).split(',')) for x in processed_docs]\n",
    "# comments = pd.read_csv(os.path.join(DATA_PATH, \"merged_comments.csv\"))\n",
    "# comments = comments[comments.comment_text.notnull()].copy()\n",
    "# comments['processed'] = processed_docs\n",
    "# comments['length'] = length\n",
    "# comments['include'] = comments.length > comment_length\n",
    "# comments = comments[comments.include].copy()"
   ]
  },
  {
   "cell_type": "code",
   "execution_count": 21,
   "metadata": {},
   "outputs": [
    {
     "name": "stdout",
     "output_type": "stream",
     "text": [
      "1.0.26\n"
     ]
    }
   ],
   "source": [
    "import top2vec\n",
    "print(top2vec.__version__)"
   ]
  },
  {
   "cell_type": "code",
   "execution_count": 38,
   "metadata": {},
   "outputs": [
    {
     "data": {
      "text/plain": [
       "label\n",
       "other         144\n",
       "interest       66\n",
       "social         59\n",
       "competence     44\n",
       "fitness        23\n",
       "appearance     15\n",
       "Name: count, dtype: int64"
      ]
     },
     "execution_count": 38,
     "metadata": {},
     "output_type": "execute_result"
    }
   ],
   "source": [
    "topics.loc[topics.label_score<0.01,'label'] = 'other'\n",
    "topics.iloc[:351,:7].value_counts('label')"
   ]
  },
  {
   "cell_type": "code",
   "execution_count": 47,
   "metadata": {},
   "outputs": [],
   "source": [
    "labeled['label'] = labeled.iloc[:,5:].idxmax(axis=1)\n",
    "labeled.loc[labeled.iloc[:,5:-1].max(axis=1)<0.01,'label'] = 'other'\n",
    "topics['label2'] = labeled.label.values"
   ]
  },
  {
   "cell_type": "code",
   "execution_count": 52,
   "metadata": {},
   "outputs": [
    {
     "name": "stdout",
     "output_type": "stream",
     "text": [
      "Competence 35\n",
      "label\n",
      "competence    26\n",
      "fitness        5\n",
      "interest       2\n",
      "appearance     1\n",
      "social         1\n",
      "Name: count, dtype: int64\n",
      "\n",
      "Enjoyment 20\n",
      "label\n",
      "competence    11\n",
      "interest       4\n",
      "fitness        2\n",
      "social         2\n",
      "appearance     1\n",
      "Name: count, dtype: int64\n",
      "\n",
      "other 2908\n",
      "label\n",
      "competence    1670\n",
      "interest       484\n",
      "social         429\n",
      "fitness        202\n",
      "appearance     123\n",
      "Name: count, dtype: int64\n",
      "\n",
      "Appearance 3\n",
      "label\n",
      "fitness       1\n",
      "interest      1\n",
      "competence    1\n",
      "Name: count, dtype: int64\n",
      "\n",
      "Fitness 23\n",
      "label\n",
      "competence    14\n",
      "fitness        3\n",
      "interest       3\n",
      "social         2\n",
      "appearance     1\n",
      "Name: count, dtype: int64\n",
      "\n",
      "Social 10\n",
      "label\n",
      "competence    6\n",
      "interest      3\n",
      "social        1\n",
      "Name: count, dtype: int64\n",
      "\n"
     ]
    }
   ],
   "source": [
    "for label in topics.label2.unique():\n",
    "    print(label, topics[topics.label2==label].shape[0])\n",
    "    print(topics[topics.label2==label].label.value_counts())\n",
    "    print()"
   ]
  }
 ],
 "metadata": {
  "kernelspec": {
   "display_name": "ctopics",
   "language": "python",
   "name": "python3"
  },
  "language_info": {
   "codemirror_mode": {
    "name": "ipython",
    "version": 3
   },
   "file_extension": ".py",
   "mimetype": "text/x-python",
   "name": "python",
   "nbconvert_exporter": "python",
   "pygments_lexer": "ipython3",
   "version": "3.9.18"
  }
 },
 "nbformat": 4,
 "nbformat_minor": 2
}
