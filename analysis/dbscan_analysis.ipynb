{
 "cells": [
  {
   "cell_type": "code",
   "execution_count": 1,
   "metadata": {},
   "outputs": [],
   "source": [
    "import pandas as pd\n",
    "import numpy as np\n",
    "import matplotlib.pyplot as plt\n",
    "import seaborn as sns\n",
    "import os\n",
    "\n",
    "%matplotlib inline"
   ]
  },
  {
   "cell_type": "code",
   "execution_count": 9,
   "metadata": {},
   "outputs": [],
   "source": [
    "PATH = 'C:/Users/doosti/Dropbox (Chapman)/Research/Research Projects/Fitness/Data/'\n",
    "File = 'comments_cluster_lowercase_dbscan.csv'\n",
    "file_path = os.path.join(PATH, File)\n",
    "df = pd.read_csv(file_path)"
   ]
  },
  {
   "cell_type": "code",
   "execution_count": 10,
   "metadata": {},
   "outputs": [
    {
     "data": {
      "text/plain": [
       "cluster\n",
       "-1    204263\n",
       " 0      9197\n",
       " 1      5676\n",
       " 3      1788\n",
       " 2      1055\n",
       "Name: count, dtype: int64"
      ]
     },
     "execution_count": 10,
     "metadata": {},
     "output_type": "execute_result"
    }
   ],
   "source": [
    "df.cluster.value_counts()"
   ]
  },
  {
   "cell_type": "code",
   "execution_count": 18,
   "metadata": {},
   "outputs": [
    {
     "data": {
      "text/plain": [
       "['Thank you Kate for sharing another amazing flow! I’m starting to think I’m becoming more of an advanced yogi because I keep going for - and having success in - your optional advanced poses. Thanks for the push!',\n",
       " 'Hah, day 4 done! At the beggining of the practice I felt not that good emotionally, but now I feel so much better! Thank you for helping me (and so many other people!) to stay calm and positive!',\n",
       " 'Oh this is absolutely fantastic, my hips and legs are tough customers but this REALLY worked without ever feeling stressful. Thank you!',\n",
       " 'As always amazing, energizing and at the same time relaxing workout!  I loved every part of it and especially the arms exercises at the end.  Thank you so much Nicole!',\n",
       " 'I’m a female yoga teacher interested in learning how to teach better different people with different backgrounds (gender, age, fitness level) and this has been very useful. Thank u!',\n",
       " 'This was exactly what I needed today; so supportive and calming.  The supported child’s pose was new to me, and incredibly comforting.  Thank you!!',\n",
       " 'Definitely feeling good inside and out after this heart opener. Just what I needed this morning. I love this workout. Thank you so much!',\n",
       " 'I have been practicing yoga for years--over 30. This is the second flow of yours that I have done, and I am just blown away with the diversity, the challenge the engaging FUN of it! Thank you, Charlie!',\n",
       " 'Every day you say things which resonate with me; but also things which make me giggle; and things which I can take off the mat to help manage work and life and balance better. Thank you so much!',\n",
       " 'First day back from vacation! Great way to ease back into my yoga practice and shake off the stiffness from the 5 hour flight. Thanks!']"
      ]
     },
     "execution_count": 18,
     "metadata": {},
     "output_type": "execute_result"
    }
   ],
   "source": [
    "# cluster 0 is the largest cluster\n",
    "df[df.cluster==0].sample(10).comment_text.tolist()\n",
    "# it seems many of the comments focus on the struggle but sense of accomplishment after that"
   ]
  },
  {
   "cell_type": "code",
   "execution_count": 19,
   "metadata": {},
   "outputs": [
    {
     "data": {
      "text/plain": [
       "[\"Namaste to everyone who was 'scared' for today but is here reading the comments after finishing this practice! Had some minor breaks which actually made me love this practice! See you guys tomorrow :)\",\n",
       " 'This was a great practice! I actually really enjoy the format without music a lot, it adds an extra level of calm for me just hearing the birds in the morning and nothing else! Thank you so much:)',\n",
       " 'AMAZING flow! Those standing splits humbled me lol. That one will take lots of practice. Thank you Nicole! I feel amazing :)',\n",
       " 'I’ve so been enjoying this series Kassandra! The affirmations are exactly what I need to start the year off. And loved your pupper showing up at the end. My cats always end up walking around me and over me when I meditate. :P',\n",
       " \"For me it was actually the breath of fire that came out all wrong, I was contracting on the inhale and couldn't get it right :'D Next time though! My core is going to be screaming tomorrow !! Thanks Adriene! <3\",\n",
       " 'This was the perfect practice to restart and feel good before a week of final exams! \\nI will come back to it whenever I feel stressed or when I need some cozy time\\nThank you ! <3',\n",
       " \"I've been watching your videos for awhile, mostly because I wanted to be more flexible and mobile, so I was mostly just picking stretches and doing them individually. But I recently had a doctor tell me I should try yoga as a form of mindfulness to help with psychosomatic illness, so I decided to try some full routines. This class was perfect for me because I can't always do more intense workouts due to my illness. Thank you so much! <3\",\n",
       " 'Thank you for that wonderful class! I like it when you stay in Shavasana within the class, sharing some wise thoughts. Thank you :)',\n",
       " \"My hips are reborn after this!! My intention was letting go of frustration, and judging by how I ended up crying coming out of shavasana, I'd say some of that was achieved. Thank you <3\",\n",
       " 'This session touched me deeply, the way you guided me to be more  caring and gentle to myself, if felt so good inviting more kindness and attention. big sigh here , thank you very much Adrienne. Love your light cheerfull way to take this seriously and show up ;-)']"
      ]
     },
     "execution_count": 19,
     "metadata": {},
     "output_type": "execute_result"
    }
   ],
   "source": [
    "# cluster 1\n",
    "df[df.cluster==1].sample(10).comment_text.tolist()\n",
    "# rejuvenation and relaxation"
   ]
  },
  {
   "cell_type": "code",
   "execution_count": 21,
   "metadata": {},
   "outputs": [
    {
     "data": {
      "text/plain": [
       "['Dear Kassandra, I’m doing yoga with you since the 30 days challenge. Thank you for making the practice so much easier. I’m from Brazil and I’m also improving my english skills with your classes. Double thanks! Love you! Hope you’re having the best time in your life! ❤️',\n",
       " 'Thabk you SOOOO much for the knee friendly workout!!!  Both of knees were hurt when I fell off a walk and then another fall from a ladder.  Can you do more knee friendly workouts?  Please. ❤❤❤😁🙏🏻',\n",
       " 'Thank you for the amazing video! Your practices are always so restorative and rejuvenating and feel so good not only on the body but on the mind and soul as well, so thank you!💕💕💕',\n",
       " 'Just discovered your channel. This flow was wonderful - thank you for doing this class for me! I loved every minute and will definitely do more of your classes. Thank you and namaste ❤',\n",
       " 'Really love these morning practices.  I have been doing this for more than two months now and loving it!  Thank you so much for the very helpful guidance, Kassandra🙏🏻🙏🏻😊',\n",
       " 'Awesome thank you ! Wonderful to return to yoga practice as an injury sidelined me! Really enjoyed this like coming home! 🙏🙏🐢',\n",
       " 'I always feel great and inspired after taking your classes. My  intention is to trust the Universe and myself a whole lot more.\\nThanks so much for your beautiful classes! \\nNamaste 🙏',\n",
       " 'Amazing peaceful class. Travis, your shooting choice of words and positive energy is traveling through out my home. I feel incredibly light and stress free since I started your classes. All my aches and pain going away. Thank you Namaste🙏🙏',\n",
       " 'I found you yesterday and you are simply wonderful! You have given me 2 beautiful flows and a clear head space to end the day on. Thank you for sharing your practice! ❤️',\n",
       " 'I find myself wanting to practice yoga more often than once a day lately and these shorter classes are perfect for tapping in to my breath more often.  Many thanks!  Namaste 🙏']"
      ]
     },
     "execution_count": 21,
     "metadata": {},
     "output_type": "execute_result"
    }
   ],
   "source": [
    "# cluster 2\n",
    "df[df.cluster==2].sample(10).comment_text.tolist()\n",
    "# amazing workout"
   ]
  },
  {
   "cell_type": "code",
   "execution_count": 22,
   "metadata": {},
   "outputs": [
    {
     "data": {
      "text/plain": [
       "['Really needed this. As a mom my days and nights are draining. Drawing in positive energy to start my day. Namaste 🙏🏽',\n",
       " 'Thank you Kassandra for the practice. Love the sequence and flow….I’m not very good with arm balance but I appreciate the opportunity to practice. ❤️🙏',\n",
       " \"Thanks for sharing. All the best for you and I'll be here waiting for new yoga classes- no matter how long it takes. Namaste ❤️\",\n",
       " 'A perfect class for me this morning. And at the end of the session I was grateful for having completed it.\\nSuperb backdrop you have there, too.\\nNamaste 🙏',\n",
       " 'When you called yourself a nerd for wearing blue for this chakra exercise I lost it haha. You’re such a refreshing soul and it’s exactly what I need to get my day started. \\n\\nNamaste 🙏🏽',\n",
       " 'OMFG Cole thank you that was wonderful and we did sure concour the day. What a treat to our body that practice was. Namaste 🙏✌E-🦸\\u200d♂️',\n",
       " 'Good morning, I hope you and your family are doing well.  I just completed day 19 and 20 practices.  It was a challenge for my glutes, hips and hamstrings.  They are still quite tight from my training.  Thank you for the reminder to release the fascia in my feet.  Wishing you a beautiful day!  Namasté 🙏❤️',\n",
       " \"Wonderful! I needed a double-dose of yoga this morning and this was the perfect part 2. Thanks as always Charlie. I'm so happy I found your channel! Thank you for sharing your beautiful practice with us. Namaste 🙏\",\n",
       " 'WOW! I couldn’t believe it when you said, at the last child pose, that it was our last pose! I thought we had just started with the warm up! That was a perfect practice. You are always a delight! And I appreciate you reminding us to stay present. Thank you, beautiful being. Namaste ❤',\n",
       " 'Thank you for opening me and my world up this year. I started my yoga journey looking for digestion relief in March and I found you. I have healed a lot of grief and found light in the world again. Thank you for all of your practices, not just the physical ones but the emotional and spiritual ones as well. You have changed me for the better and your classes will always stay with me as a major pivoting point in my life. \\nNamaste 🙏🏻']"
      ]
     },
     "execution_count": 22,
     "metadata": {},
     "output_type": "execute_result"
    }
   ],
   "source": [
    "# cluster 3\n",
    "df[df.cluster==3].sample(10).comment_text.tolist()\n",
    "# following the challenge"
   ]
  },
  {
   "cell_type": "code",
   "execution_count": 24,
   "metadata": {},
   "outputs": [
    {
     "data": {
      "text/plain": [
       "['Loving these shorter yin yoga videos. Much more attainable for me and less intimidating. Thank you for sharing your gift with us 💗',\n",
       " 'Isnt she fecking annoying shes like those horrible toffee nosed presenters off itv shes just using other peoples ideas jog on missy',\n",
       " 'Thank you! Short and sweet. Perfect on a busy morning… can’t wait to dedicate an hour on your patreon though 🌞🥰',\n",
       " '@Move With Nicole Hi from Seattle Washington!!!  I have been following your work outs for a bit now & I am having so much fun!! I really enjoy working out with you!! LOL!! I have a question about your workout routine... Is this Pilates and yoga, stretching, etc. the only form of exercise you practice? Is there any other type of exercise you regularly practice? because really like the physical condition you are in and I am similar in build. Thanks for your time and thanks for sharing your routines with us all!!!',\n",
       " 'HI Arianna, this was a good practice full of strength. I get challenged in your classes. How do you support your yoga studio. Is it the venmo app and the cash app is personal? Thank you sis',\n",
       " 'Thank you Nicole. I noticed that you have done an intermediate/advanced class. Would you consider doing a couple of beginner/intermediate classes? I can do the beginner classes but I find the intermediate classes really (REALLY) hard. I love your classes so much that I don’t want to try any others so I hope you will think about my request. Thank you again for giving me my half hour of happiness.',\n",
       " 'Wonderful session to reconnect with yoga since my frozen shoulder diagnosis. Lots of modifications taken, but feel oh so much better already.',\n",
       " 'Adriene, how do you always seem to know exactly what we all need? This was such a beautiful practice, feeling supremely calm and grounded now 😊. Thank you so much 🙏 💕',\n",
       " '❤ JOIN OUR YOGA & LIFESTYLE COMMUNITY ❤ \\nhttps://yogavcommunity.vhx.tv\\n\\n🎁 RECIEVE A FREE GIFT - 1HR YOGA FLOW 🎁\\nhttps://bit.ly/2Pgdx90\\n\\n✨ OFFICIAL YOGATX APPAREL ✨\\nhttps://teespring.com/yogatx-merchandise#pid=522&cid=101883&sid=front\\n\\n😍 NEW EXCLUSIVE 1-HOUR LONG FLOWS AVAILABLE 😍\\nhttp://yogatx.org\\n\\n🔹 SUPPORT YOGATX WITH A DONATION 🔹\\nhttp://paypal.me/yogatx\\n\\n🙏🏽 SUPPORT YOGATX & HELP US MAKE NEW CONTENT 🙏🏽\\nhttps://patreon.com/yogatx',\n",
       " \"I'm usually afraid of requesting things to others but today I did it and asked it with confidence! Then I've come to do today's practise and saw it fits perfectly with my current state ❤\"]"
      ]
     },
     "execution_count": 24,
     "metadata": {},
     "output_type": "execute_result"
    }
   ],
   "source": [
    "# noise\n",
    "df[df.cluster==-1].sample(10).comment_text.tolist()"
   ]
  }
 ],
 "metadata": {
  "kernelspec": {
   "display_name": "ctm",
   "language": "python",
   "name": "python3"
  },
  "language_info": {
   "codemirror_mode": {
    "name": "ipython",
    "version": 3
   },
   "file_extension": ".py",
   "mimetype": "text/x-python",
   "name": "python",
   "nbconvert_exporter": "python",
   "pygments_lexer": "ipython3",
   "version": "3.11.6"
  }
 },
 "nbformat": 4,
 "nbformat_minor": 2
}
