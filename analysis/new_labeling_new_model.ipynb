{
 "cells": [
  {
   "cell_type": "markdown",
   "metadata": {},
   "source": [
    "# Labeling by Document Similarity\n",
    "We take a different approach to label the comments. In this approach, we use labeled comments and find similar comments to label them."
   ]
  },
  {
   "cell_type": "code",
   "execution_count": 2,
   "metadata": {},
   "outputs": [
    {
     "name": "stderr",
     "output_type": "stream",
     "text": [
      "c:\\Users\\doosti\\.conda\\envs\\top2vec\\lib\\site-packages\\tqdm\\auto.py:21: TqdmWarning: IProgress not found. Please update jupyter and ipywidgets. See https://ipywidgets.readthedocs.io/en/stable/user_install.html\n",
      "  from .autonotebook import tqdm as notebook_tqdm\n"
     ]
    }
   ],
   "source": [
    "import os\n",
    "import pandas as pd\n",
    "import numpy as np\n",
    "from top2vec import Top2Vec\n",
    "import sys\n",
    "import re"
   ]
  },
  {
   "cell_type": "markdown",
   "metadata": {},
   "source": [
    "## Loading Data Sets"
   ]
  },
  {
   "cell_type": "code",
   "execution_count": 3,
   "metadata": {},
   "outputs": [
    {
     "name": "stdout",
     "output_type": "stream",
     "text": [
      "(830479, 1)\n"
     ]
    }
   ],
   "source": [
    "\n",
    "DATA_PATH = \"C:/Users/doosti/Dropbox (Chapman)/Research/Research Projects/Fitness/Data/\"\n",
    "processed_file=\"processed_comments_102423.txt\"\n",
    "comments_file=\"merged_comments.csv\"\n",
    "labeled = \"comments_activity_motives.csv\"\n",
    "sim_labels = \"comments_similarity_labels.csv\"\n",
    "\n",
    "labeled = pd.read_csv(os.path.join(DATA_PATH, labeled))\n",
    "sim_labels = pd.read_csv(os.path.join(DATA_PATH, sim_labels))\n",
    "comment_length=10\n",
    "with open(os.path.join(DATA_PATH,processed_file),\"r\", encoding=\"utf-8\") as f:\n",
    "    processed_docs = f.readlines()\n",
    "length = [len(re.sub(\"\\d+\", \"\", x.strip()).split(',')) for x in processed_docs]\n",
    "comments = pd.read_csv(os.path.join(DATA_PATH, \"merged_comments.csv\"))\n",
    "comments = comments[comments.comment_text.notnull()].copy()\n",
    "\n",
    "# comments['processed'] = processed_docs\n",
    "# comments['length'] = length\n",
    "# comments['include'] = comments.length > comment_length\n",
    "# comments = comments[comments.include].copy()\n",
    "\n",
    "print(f\"the total number of comments is {comments.shape[0]+labeled.shape[0]}\")"
   ]
  },
  {
   "cell_type": "markdown",
   "metadata": {},
   "source": [
    "## Loading the Model"
   ]
  },
  {
   "cell_type": "code",
   "execution_count": 4,
   "metadata": {},
   "outputs": [],
   "source": [
    "# model_name = \"top2vec_lowercase_learn_doc2vec.model\"\n",
    "model_name = \"top2vec_pluslabeled_learn_doc2vec_tfgpu.model\"\n",
    "model = Top2Vec.load(f\"E:/{model_name}\")"
   ]
  },
  {
   "cell_type": "code",
   "execution_count": 5,
   "metadata": {},
   "outputs": [
    {
     "data": {
      "text/plain": [
       "array([     0,      1,      2, ..., 830476, 830477, 830478], dtype=int64)"
      ]
     },
     "execution_count": 5,
     "metadata": {},
     "output_type": "execute_result"
    }
   ],
   "source": [
    "model.document_ids"
   ]
  },
  {
   "cell_type": "markdown",
   "metadata": {},
   "source": [
    "## Finding Similarities"
   ]
  },
  {
   "cell_type": "code",
   "execution_count": 6,
   "metadata": {},
   "outputs": [
    {
     "name": "stdout",
     "output_type": "stream",
     "text": [
      "Index(['channel_name', 'comment_text', 'habit', 'community', 'progress',\n",
      "       'Fitness', 'Competence', 'Appearance', 'Enjoyment', 'Social'],\n",
      "      dtype='object')\n"
     ]
    }
   ],
   "source": [
    "from pprint import pprint\n",
    "pprint(labeled.columns)"
   ]
  },
  {
   "cell_type": "code",
   "execution_count": 63,
   "metadata": {},
   "outputs": [],
   "source": [
    "label_idx = {}\n",
    "# Competence\n",
    "comp_idx = labeled[labeled.Competence == 1].index.values + comments.shape[0]\n",
    "label_idx['competence'] = comp_idx.tolist()\n",
    "# Fitness\n",
    "fit_idx = labeled[labeled.Fitness == 1].index.values + comments.shape[0]\n",
    "label_idx['fitness'] = fit_idx.tolist()\n",
    "# Appearance\n",
    "app_idx = labeled[labeled.Appearance == 1].index.values + comments.shape[0]\n",
    "label_idx['appearance'] = app_idx.tolist()\n",
    "# Enjoyment\n",
    "enj_idx = labeled[labeled.Enjoyment == 1].index.values + comments.shape[0]\n",
    "label_idx['enjoyment'] = enj_idx.tolist()\n",
    "# Social\n",
    "#soc_idx = labeled[(labeled.Social == 1)].index.values + comments.shape[0]\n",
    "#label_idx['social'] = soc_idx.tolist()\n",
    "# Appreciation\n",
    "label_idx['thanks'] = [223814, 316898, 610256, 301454, 212997, 356964, 223083, 294452, 59093]\n",
    "# More\n",
    "label_idx['more'] = [300363, 371792, 628093, 301235]\n",
    "# Great\n",
    "label_idx['great'] = [347408, 580749]\n",
    "\n",
    "\n",
    "# comp_idx = labeled.iloc[:200,:][labeled.Competence == 1].index.values + comments.shape[0]\n",
    "# label_idx['competence'] = comp_idx.tolist()\n",
    "# # Fitness\n",
    "# fit_idx = labeled.iloc[:200,:][labeled.Fitness == 1].index.values + comments.shape[0]\n",
    "# label_idx['fitness'] = fit_idx.tolist()\n",
    "# # Appearance\n",
    "# app_idx = labeled.iloc[:200,:][labeled.Appearance == 1].index.values + comments.shape[0]\n",
    "# label_idx['appearance'] = app_idx.tolist()\n",
    "# # Enjoyment\n",
    "# enj_idx = labeled.iloc[:200,:][labeled.Enjoyment == 1].index.values + comments.shape[0]\n",
    "# label_idx['enjoyment'] = enj_idx.tolist()\n",
    "# # Social\n",
    "# soc_idx = labeled.iloc[:200,:][(labeled.Social == 1)].index.values + comments.shape[0]\n",
    "# label_idx['social'] = soc_idx.tolist()"
   ]
  },
  {
   "cell_type": "code",
   "execution_count": 84,
   "metadata": {},
   "outputs": [
    {
     "name": "stdout",
     "output_type": "stream",
     "text": [
      "(830479, 1)\n",
      "                                             comment_text  competence  \\\n",
      "29038   I’m a couple years into menopause but I’m goin...    0.000000   \n",
      "537274  My intention was everything is perfect in this...    0.000000   \n",
      "653707  Happy Independence day sir\\nSuperb workout I l...    0.000000   \n",
      "360488       Thanks-very grateful for your yoga approach.    0.000000   \n",
      "601100  It is also my rising sign. Thank you for the c...    0.000000   \n",
      "497239                   Thanks Tim another great session    0.472505   \n",
      "707501  Day 1 of starting Pilates and I didn’t realize...    0.000000   \n",
      "389276                                  That was great! 😊    0.000000   \n",
      "182200  Day 18!! I do feel like AI 🤖 with all the ting...    0.000000   \n",
      "294059  The best pilates class for me, as it allows mo...    0.000000   \n",
      "\n",
      "         fitness  appearance  enjoyment  social  max_score       label  \n",
      "29038   0.000000         0.0   0.000000     0.0   0.000000  competence  \n",
      "537274  0.000000         0.0   0.000000     0.0   0.000000  competence  \n",
      "653707  0.000000         0.0   0.000000     0.0   0.000000  competence  \n",
      "360488  0.000000         0.0   0.000000     0.0   0.000000  competence  \n",
      "601100  0.000000         0.0   0.000000     0.0   0.000000  competence  \n",
      "497239  0.395048         0.0   0.478623     0.0   0.478623   enjoyment  \n",
      "707501  0.000000         0.0   0.000000     0.0   0.000000  competence  \n",
      "389276  0.000000         0.0   0.000000     0.0   0.000000  competence  \n",
      "182200  0.000000         0.0   0.000000     0.0   0.000000  competence  \n",
      "294059  0.000000         0.0   0.000000     0.0   0.000000  competence  \n"
     ]
    }
   ],
   "source": [
    "comments2 = pd.DataFrame(data={'comment_text': comments.comment_text.tolist() + labeled.comment_text.tolist()})\n",
    "print(comments2.shape)\n",
    "\n",
    "# get similarity scores for each comment\n",
    "def get_similarity_scores(idx, model, num_docs=10000):\n",
    "    docs, scores, doc_ids = model.search_documents_by_documents(idx, num_docs=num_docs, ef=800000)\n",
    "    return scores, doc_ids\n",
    "\n",
    "# fill the column for each label with the similarity scores using the doc ids\n",
    "def fill_column(idx, model, label):\n",
    "    scores, doc_ids = get_similarity_scores(idx, model)\n",
    "    comments2[label] = 0.0\n",
    "    comments2.loc[doc_ids, label] = scores\n",
    "\n",
    "# fill the columns for each label\n",
    "for label, idx in label_idx.items():\n",
    "    fill_column(idx, model, label)\n",
    "\n",
    "# extra for social\n",
    "soc_idx = (labeled[(labeled.Social == 1)].index.values + comments.shape[0]).tolist()\n",
    "soc_neg = [2+comments.shape[0], 216508, 344659, 212698, 307772, 301844, 212609, 317443, 215525, 67716, 810299,\n",
    "           217844, 102735, 102912, 103336, 16240, 304445,322119,160198] #(labeled.iloc[:350,:][(labeled.Social == 0)].index.values + comments.shape[0]).tolist()\n",
    "docs, scores, doc_ids = model.search_documents_by_documents(doc_ids = soc_idx, doc_ids_neg = soc_neg, num_docs=10000)\n",
    "comments2['social'] = 0.0\n",
    "comments2.loc[doc_ids, 'social'] = scores\n",
    "\n",
    "main_cols = ['competence', 'fitness', 'appearance', 'enjoyment', 'social']\n",
    "extra_cols = ['thanks', 'more', 'great']\n",
    "\n",
    "# get the max score for each comment\n",
    "comments2['max_score'] = comments2[main_cols + extra_cols].max(axis=1)\n",
    "# get the label for each comment\n",
    "comments2['label'] = comments2[main_cols + extra_cols].idxmax(axis=1)\n",
    "\n",
    "pprint(comments2.sample(10))\n"
   ]
  },
  {
   "cell_type": "code",
   "execution_count": 68,
   "metadata": {},
   "outputs": [],
   "source": [
    "comments2.loc[comments2.max_score < 0.35, 'label'] = 'other'"
   ]
  },
  {
   "cell_type": "code",
   "execution_count": 78,
   "metadata": {},
   "outputs": [
    {
     "name": "stdout",
     "output_type": "stream",
     "text": [
      "label\n",
      "competence    800643\n",
      "social          9998\n",
      "enjoyment       7884\n",
      "appearance      6230\n",
      "fitness         5724\n",
      "Name: count, dtype: int64\n"
     ]
    }
   ],
   "source": [
    "pprint(comments2.label.value_counts())"
   ]
  },
  {
   "cell_type": "code",
   "execution_count": 85,
   "metadata": {},
   "outputs": [
    {
     "name": "stdout",
     "output_type": "stream",
     "text": [
      "score:0.39, index:610256, label index:-217224\n",
      "'Great exercise! Thanks'\n",
      "------------------\n",
      "score:0.37, index:390843, label index:-436637\n",
      "'I have patella dislocation,can I do this yoga?'\n",
      "------------------\n",
      "score:0.36, index:300368, label index:-527112\n",
      "'More like this, please!'\n",
      "------------------\n",
      "score:0.35, index:371792, label index:-455688\n",
      "'More like this please!'\n",
      "------------------\n",
      "score:0.34, index:271309, label index:-556171\n",
      "'Great flow class if you don’t have a lot of time.'\n",
      "------------------\n",
      "score:0.34, index:676157, label index:-151323\n",
      "'Can  the gents do this exercise.....?'\n",
      "------------------\n",
      "score:0.34, index:347408, label index:-480072\n",
      "'Great start to the day ❤🙏'\n",
      "------------------\n",
      "score:0.34, index:301454, label index:-526026\n",
      "'Thank you so much! I feel great! ❤❤❤'\n",
      "------------------\n",
      "score:0.34, index:537639, label index:-289841\n",
      "'More video on this, please 😍😍🙏🙏'\n",
      "------------------\n",
      "score:0.34, index:665769, label index:-161711\n",
      "'Thank you for this exercise 🙏'\n",
      "------------------\n",
      "score:0.33, index:333754, label index:-493726\n",
      "'do you have to get the tats to do the yoga?'\n",
      "------------------\n",
      "score:0.33, index:59093, label index:-768387\n",
      "'Thank you, I feel perfect after this wonderful exercise ❤️'\n",
      "------------------\n",
      "score:0.33, index:580749, label index:-246731\n",
      "'Beautiful Exercise, THank you))'\n",
      "------------------\n",
      "score:0.33, index:413191, label index:-414289\n",
      "'I had to do 🙏🏼🧘🏼\\u200d♀️'\n",
      "------------------\n",
      "score:0.33, index:301235, label index:-526245\n",
      "'More videos like this please! :)'\n",
      "------------------\n",
      "score:0.33, index:294452, label index:-533028\n",
      "'thank you for this class'\n",
      "------------------\n",
      "score:0.33, index:223083, label index:-604397\n",
      "'Great class! But when is it not a great class🥰'\n",
      "------------------\n",
      "score:0.33, index:628093, label index:-199387\n",
      "'Loved it! Please do more of these! 😄'\n",
      "------------------\n",
      "score:0.33, index:356964, label index:-470516\n",
      "'This is a beautiful practice. Thank you!'\n",
      "------------------\n",
      "score:0.33, index:212997, label index:-614483\n",
      "'Thank you so much'\n",
      "------------------\n"
     ]
    }
   ],
   "source": [
    "for k,row in comments2.sort_values(by='social', ascending=False).iloc[:20].iterrows():\n",
    "# print social score with two decimal places\n",
    "    print(f\"score:{row.social:.2f}, index:{k}, label index:{k-comments.shape[0]}\")\n",
    "    pprint(row.comment_text)\n",
    "    print('------------------')"
   ]
  },
  {
   "cell_type": "code",
   "execution_count": 22,
   "metadata": {},
   "outputs": [
    {
     "name": "stdout",
     "output_type": "stream",
     "text": [
      "[221981, 131228, 62165, 224507, 191522, 207289, 224867, 86560, 73700]\n"
     ]
    }
   ],
   "source": [
    "pprint(soc_neg)"
   ]
  },
  {
   "cell_type": "code",
   "execution_count": 38,
   "metadata": {},
   "outputs": [],
   "source": [
    "# compare the labels to the original labels\n",
    "labeled['predicted_label'] = comments2.loc[comments.shape[0]:, 'label'].tolist()"
   ]
  },
  {
   "cell_type": "code",
   "execution_count": 44,
   "metadata": {},
   "outputs": [
    {
     "name": "stdout",
     "output_type": "stream",
     "text": [
      "label\n",
      "other         2908\n",
      "Competence      35\n",
      "Fitness         23\n",
      "Enjoyment       20\n",
      "Social          10\n",
      "Appearance       3\n",
      "Name: count, dtype: int64\n",
      "predicted_label\n",
      "other         2481\n",
      "competence     202\n",
      "enjoyment      160\n",
      "social          88\n",
      "fitness         68\n",
      "Name: count, dtype: int64\n",
      "Competence 35\n",
      "predicted_label\n",
      "other         30\n",
      "enjoyment      4\n",
      "competence     1\n",
      "Name: count, dtype: int64\n",
      "\n",
      "Enjoyment 20\n",
      "predicted_label\n",
      "other         16\n",
      "fitness        2\n",
      "competence     1\n",
      "enjoyment      1\n",
      "Name: count, dtype: int64\n",
      "\n",
      "other 2908\n",
      "predicted_label\n",
      "other         2405\n",
      "competence     196\n",
      "enjoyment      155\n",
      "social          87\n",
      "fitness         65\n",
      "Name: count, dtype: int64\n",
      "\n",
      "Appearance 3\n",
      "predicted_label\n",
      "other    3\n",
      "Name: count, dtype: int64\n",
      "\n",
      "Fitness 23\n",
      "predicted_label\n",
      "other         19\n",
      "competence     3\n",
      "fitness        1\n",
      "Name: count, dtype: int64\n",
      "\n",
      "Social 10\n",
      "predicted_label\n",
      "other         8\n",
      "competence    1\n",
      "social        1\n",
      "Name: count, dtype: int64\n",
      "\n"
     ]
    }
   ],
   "source": [
    "labeled['label'] = labeled.loc[:,['Fitness', 'Competence', 'Appearance', 'Enjoyment', 'Social']].idxmax(axis=1)\n",
    "labeled.loc[labeled.loc[:,['Fitness', 'Competence', 'Appearance', 'Enjoyment', 'Social']].max(axis=1)<0.5,'label'] = 'other'\n",
    "\n",
    "#pprint(labeled.label.value_counts())\n",
    "#pprint(labeled.predicted_label.value_counts())\n",
    "\n",
    "for label in labeled.label.unique():\n",
    "    print(label, labeled[labeled.label==label].shape[0])\n",
    "    print(labeled[labeled.label==label].predicted_label.value_counts())\n",
    "    print()"
   ]
  },
  {
   "cell_type": "code",
   "execution_count": 42,
   "metadata": {},
   "outputs": [
    {
     "data": {
      "text/html": [
       "<div>\n",
       "<style scoped>\n",
       "    .dataframe tbody tr th:only-of-type {\n",
       "        vertical-align: middle;\n",
       "    }\n",
       "\n",
       "    .dataframe tbody tr th {\n",
       "        vertical-align: top;\n",
       "    }\n",
       "\n",
       "    .dataframe thead th {\n",
       "        text-align: right;\n",
       "    }\n",
       "</style>\n",
       "<table border=\"1\" class=\"dataframe\">\n",
       "  <thead>\n",
       "    <tr style=\"text-align: right;\">\n",
       "      <th></th>\n",
       "      <th>channel_name</th>\n",
       "      <th>comment_text</th>\n",
       "      <th>habit</th>\n",
       "      <th>community</th>\n",
       "      <th>progress</th>\n",
       "      <th>Fitness</th>\n",
       "      <th>Competence</th>\n",
       "      <th>Appearance</th>\n",
       "      <th>Enjoyment</th>\n",
       "      <th>Social</th>\n",
       "      <th>predicted_label</th>\n",
       "      <th>label</th>\n",
       "    </tr>\n",
       "  </thead>\n",
       "  <tbody>\n",
       "    <tr>\n",
       "      <th>0</th>\n",
       "      <td>Candace Cabrera</td>\n",
       "      <td>Wow that was way too advanced for me.  Need to...</td>\n",
       "      <td>0</td>\n",
       "      <td>0</td>\n",
       "      <td>0</td>\n",
       "      <td>0</td>\n",
       "      <td>1</td>\n",
       "      <td>0</td>\n",
       "      <td>0</td>\n",
       "      <td>0</td>\n",
       "      <td>other</td>\n",
       "      <td>Competence</td>\n",
       "    </tr>\n",
       "    <tr>\n",
       "      <th>1</th>\n",
       "      <td>KinoYoga</td>\n",
       "      <td>love this video - it gives me so much motivati...</td>\n",
       "      <td>0</td>\n",
       "      <td>0</td>\n",
       "      <td>0</td>\n",
       "      <td>0</td>\n",
       "      <td>0</td>\n",
       "      <td>0</td>\n",
       "      <td>1</td>\n",
       "      <td>0</td>\n",
       "      <td>other</td>\n",
       "      <td>Enjoyment</td>\n",
       "    </tr>\n",
       "    <tr>\n",
       "      <th>2</th>\n",
       "      <td>Yoga With Adriene</td>\n",
       "      <td>This was so great. Thank you Adriene ‚ú®üíï‚ú...</td>\n",
       "      <td>0</td>\n",
       "      <td>0</td>\n",
       "      <td>0</td>\n",
       "      <td>0</td>\n",
       "      <td>0</td>\n",
       "      <td>0</td>\n",
       "      <td>0</td>\n",
       "      <td>0</td>\n",
       "      <td>other</td>\n",
       "      <td>other</td>\n",
       "    </tr>\n",
       "    <tr>\n",
       "      <th>3</th>\n",
       "      <td>Boho Beautiful Yoga</td>\n",
       "      <td>The video is perfect too... Stil camera, sligh...</td>\n",
       "      <td>0</td>\n",
       "      <td>0</td>\n",
       "      <td>0</td>\n",
       "      <td>0</td>\n",
       "      <td>0</td>\n",
       "      <td>0</td>\n",
       "      <td>0</td>\n",
       "      <td>0</td>\n",
       "      <td>other</td>\n",
       "      <td>other</td>\n",
       "    </tr>\n",
       "    <tr>\n",
       "      <th>4</th>\n",
       "      <td>Yoga With Adriene</td>\n",
       "      <td>Love having Benji in the videos :) My dogs are...</td>\n",
       "      <td>0</td>\n",
       "      <td>0</td>\n",
       "      <td>0</td>\n",
       "      <td>0</td>\n",
       "      <td>0</td>\n",
       "      <td>0</td>\n",
       "      <td>0</td>\n",
       "      <td>0</td>\n",
       "      <td>other</td>\n",
       "      <td>other</td>\n",
       "    </tr>\n",
       "  </tbody>\n",
       "</table>\n",
       "</div>"
      ],
      "text/plain": [
       "          channel_name                                       comment_text  \\\n",
       "0      Candace Cabrera  Wow that was way too advanced for me.  Need to...   \n",
       "1             KinoYoga  love this video - it gives me so much motivati...   \n",
       "2    Yoga With Adriene  This was so great. Thank you Adriene ‚ú®üíï‚ú...   \n",
       "3  Boho Beautiful Yoga  The video is perfect too... Stil camera, sligh...   \n",
       "4    Yoga With Adriene  Love having Benji in the videos :) My dogs are...   \n",
       "\n",
       "   habit  community  progress  Fitness  Competence  Appearance  Enjoyment  \\\n",
       "0      0          0         0        0           1           0          0   \n",
       "1      0          0         0        0           0           0          1   \n",
       "2      0          0         0        0           0           0          0   \n",
       "3      0          0         0        0           0           0          0   \n",
       "4      0          0         0        0           0           0          0   \n",
       "\n",
       "   Social predicted_label       label  \n",
       "0       0           other  Competence  \n",
       "1       0           other   Enjoyment  \n",
       "2       0           other       other  \n",
       "3       0           other       other  \n",
       "4       0           other       other  "
      ]
     },
     "execution_count": 42,
     "metadata": {},
     "output_type": "execute_result"
    }
   ],
   "source": []
  }
 ],
 "metadata": {
  "kernelspec": {
   "display_name": "top2vec",
   "language": "python",
   "name": "python3"
  },
  "language_info": {
   "codemirror_mode": {
    "name": "ipython",
    "version": 3
   },
   "file_extension": ".py",
   "mimetype": "text/x-python",
   "name": "python",
   "nbconvert_exporter": "python",
   "pygments_lexer": "ipython3",
   "version": "3.9.18"
  }
 },
 "nbformat": 4,
 "nbformat_minor": 2
}
