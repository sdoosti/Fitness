{
 "cells": [
  {
   "cell_type": "markdown",
   "metadata": {},
   "source": [
    "# New Version of Comment Labeling Using Keywords"
   ]
  },
  {
   "cell_type": "code",
   "execution_count": 1,
   "metadata": {},
   "outputs": [],
   "source": [
    "import pandas as pd\n",
    "import os\n",
    "import numpy as np"
   ]
  },
  {
   "cell_type": "code",
   "execution_count": 2,
   "metadata": {},
   "outputs": [],
   "source": [
    "path = \"C:/Users/doosti/Dropbox (Chapman)/Research/Research Projects/Fitness/Data/\"\n",
    "file = \"comments_negative_010424.csv\""
   ]
  },
  {
   "cell_type": "code",
   "execution_count": 5,
   "metadata": {},
   "outputs": [],
   "source": [
    "comments_labeled = pd.read_csv(os.path.join(path, file))\n",
    "comments = pd.read_csv(os.path.join(path, \"merged_comments.csv\"))\n",
    "videos = pd.read_csv(os.path.join(path, \"videos_101223.csv\"))\n",
    "videos_trends = pd.read_csv(os.path.join(path, \"final_yoga_videos_tends_101023.csv\"))\n",
    "trends = pd.read_csv(os.path.join(path, \"final_yoga_channels_trends_091523.csv\"))"
   ]
  },
  {
   "cell_type": "code",
   "execution_count": 6,
   "metadata": {},
   "outputs": [
    {
     "name": "stdout",
     "output_type": "stream",
     "text": [
      "negative\n",
      "0.0    826955\n",
      "1.0       525\n",
      "Name: count, dtype: int64\n"
     ]
    }
   ],
   "source": [
    "# merging comments and labels\n",
    "comments.index = np.arange(len(comments))\n",
    "comments_labeled = comments_labeled[:-2999].copy() # removing the extra labeled comments\n",
    "comments_labeled.index = comments_labeled['doc_id']\n",
    "\n",
    "comments.loc[comments_labeled.index, 'negative'] = comments_labeled['negative']\n",
    "print(comments['negative'].value_counts())"
   ]
  },
  {
   "cell_type": "code",
   "execution_count": 7,
   "metadata": {},
   "outputs": [
    {
     "name": "stdout",
     "output_type": "stream",
     "text": [
      "(827566, 9)\n",
      "(827552, 9)\n",
      "video_id           0\n",
      "user_id            0\n",
      "comment_text     100\n",
      "no_likes           0\n",
      "no_replies         0\n",
      "comment_year       0\n",
      "comment_month      0\n",
      "comment_day        0\n",
      "negative         100\n",
      "dtype: int64\n"
     ]
    }
   ],
   "source": [
    "# threshold = 11\n",
    "comments = comments[comments.video_id.str.len() == 11].copy()\n",
    "print(comments.shape)\n",
    "# drop rows with missing year, month, or day\n",
    "comments_labeled = comments.dropna(subset=['comment_year', 'comment_month', 'comment_day']).copy()\n",
    "print(comments_labeled.shape)\n",
    "print(comments_labeled.isnull().sum())"
   ]
  },
  {
   "cell_type": "code",
   "execution_count": 8,
   "metadata": {},
   "outputs": [],
   "source": [
    "# Create a function to format and convert the date\n",
    "def to_datetime_with_padding(year, month, day):\n",
    "    # Pad month and day with zeros if necessary\n",
    "    month = f\"{month:02d}\"\n",
    "    day = f\"{day:02d}\"\n",
    "    # Combine and convert to datetime\n",
    "    date_str = f\"{year}-{month}-{day}\"\n",
    "    return pd.to_datetime(date_str)\n",
    "\n",
    "comments_labeled['comment_year'] = comments_labeled.comment_year.astype(int)\n",
    "comments_labeled['comment_month'] = comments_labeled.comment_month.astype(int)\n",
    "comments_labeled['comment_day'] = comments_labeled.comment_day.astype(int)\n",
    "\n",
    "# Apply the function to each row\n",
    "comments_labeled['date'] = comments_labeled.apply(lambda row: to_datetime_with_padding(row[\"comment_year\"], row[\"comment_month\"], row[\"comment_day\"]), axis=1)"
   ]
  },
  {
   "cell_type": "code",
   "execution_count": 34,
   "metadata": {},
   "outputs": [],
   "source": [
    "#comments_labeled.fillna(0).to_csv(os.path.join(path, \"negative_comments_010424.csv\"), index=False)"
   ]
  },
  {
   "cell_type": "code",
   "execution_count": 9,
   "metadata": {},
   "outputs": [
    {
     "name": "stdout",
     "output_type": "stream",
     "text": [
      "video_id           0\n",
      "user_id            0\n",
      "comment_text     100\n",
      "no_likes           0\n",
      "no_replies         0\n",
      "comment_year       0\n",
      "comment_month      0\n",
      "comment_day        0\n",
      "negative         100\n",
      "date               0\n",
      "creator_id         0\n",
      "dtype: int64\n"
     ]
    }
   ],
   "source": [
    "# merging with video dataset\n",
    "#comments_labeled = \n",
    "comments_labeled['creator_id'] = comments_labeled.merge(videos,how='left',on='video_id').creator_id.values\n",
    "comments_labeled = comments_labeled.dropna(subset=['creator_id'])\n",
    "print(comments_labeled.isnull().sum())"
   ]
  },
  {
   "cell_type": "code",
   "execution_count": 11,
   "metadata": {},
   "outputs": [
    {
     "name": "stdout",
     "output_type": "stream",
     "text": [
      "(48673, 4)\n",
      "71\n",
      "negative           creator_id       date  none  negative\n",
      "0         262h9yTG1f03Nobo501 2020-11-05   1.0       0.0\n",
      "1         262h9yTG1f03Nobo501 2020-11-11  28.0       0.0\n",
      "2         262h9yTG1f03Nobo501 2020-11-12  46.0       0.0\n",
      "3         262h9yTG1f03Nobo501 2020-11-13  42.0       0.0\n",
      "4         262h9yTG1f03Nobo501 2020-11-14  46.0       0.0\n"
     ]
    }
   ],
   "source": [
    "channel_day = comments_labeled.fillna(0).groupby(['creator_id','date']).negative.value_counts().unstack().reset_index()\n",
    "channel_day = channel_day.fillna(0)\n",
    "channel_day = channel_day.rename(columns={0:'none', 1:'negative'})\n",
    "print(channel_day.shape)\n",
    "print(channel_day.creator_id.nunique())\n",
    "print(channel_day.head())\n"
   ]
  },
  {
   "cell_type": "code",
   "execution_count": 12,
   "metadata": {},
   "outputs": [],
   "source": [
    "channel_day.to_csv(os.path.join(path, \"channel_day_negative_010424.csv\"), index=False)"
   ]
  }
 ],
 "metadata": {
  "kernelspec": {
   "display_name": "ctopics",
   "language": "python",
   "name": "python3"
  },
  "language_info": {
   "codemirror_mode": {
    "name": "ipython",
    "version": 3
   },
   "file_extension": ".py",
   "mimetype": "text/x-python",
   "name": "python",
   "nbconvert_exporter": "python",
   "pygments_lexer": "ipython3",
   "version": "3.9.18"
  }
 },
 "nbformat": 4,
 "nbformat_minor": 2
}
