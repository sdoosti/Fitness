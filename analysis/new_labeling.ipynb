{
 "cells": [
  {
   "cell_type": "markdown",
   "metadata": {},
   "source": [
    "# Labeling by Document Similarity\n",
    "We take a different approach to label the comments. In this approach, we use labeled comments and find similar comments to label them."
   ]
  },
  {
   "cell_type": "code",
   "execution_count": 2,
   "metadata": {},
   "outputs": [
    {
     "name": "stderr",
     "output_type": "stream",
     "text": [
      "c:\\Users\\doosti\\.conda\\envs\\top2vec\\lib\\site-packages\\tqdm\\auto.py:21: TqdmWarning: IProgress not found. Please update jupyter and ipywidgets. See https://ipywidgets.readthedocs.io/en/stable/user_install.html\n",
      "  from .autonotebook import tqdm as notebook_tqdm\n"
     ]
    }
   ],
   "source": [
    "import os\n",
    "import pandas as pd\n",
    "import numpy as np\n",
    "from top2vec import Top2Vec\n",
    "import sys\n",
    "import re"
   ]
  },
  {
   "cell_type": "markdown",
   "metadata": {},
   "source": [
    "## Loading Data Sets"
   ]
  },
  {
   "cell_type": "code",
   "execution_count": 4,
   "metadata": {},
   "outputs": [],
   "source": [
    "\n",
    "DATA_PATH = \"C:/Users/doosti/Dropbox (Chapman)/Research/Research Projects/Fitness/Data/\"\n",
    "processed_file=\"processed_comments_102423.txt\"\n",
    "comments_file=\"merged_comments.csv\"\n",
    "labeled = \"comments_activity_motives.csv\"\n",
    "sim_labels = \"comments_similarity_labels.csv\"\n",
    "\n",
    "labeled = pd.read_csv(os.path.join(DATA_PATH, labeled))\n",
    "sim_labels = pd.read_csv(os.path.join(DATA_PATH, sim_labels))\n",
    "comment_length=10\n",
    "with open(os.path.join(DATA_PATH,processed_file),\"r\", encoding=\"utf-8\") as f:\n",
    "    processed_docs = f.readlines()\n",
    "length = [len(re.sub(\"\\d+\", \"\", x.strip()).split(',')) for x in processed_docs]\n",
    "comments = pd.read_csv(os.path.join(DATA_PATH, \"merged_comments.csv\"))\n",
    "comments = comments[comments.comment_text.notnull()].copy()\n",
    "comments['processed'] = processed_docs\n",
    "comments['length'] = length\n",
    "comments['include'] = comments.length > comment_length\n",
    "comments = comments[comments.include].copy()"
   ]
  },
  {
   "cell_type": "markdown",
   "metadata": {},
   "source": [
    "## Loading the Model"
   ]
  },
  {
   "cell_type": "code",
   "execution_count": 23,
   "metadata": {},
   "outputs": [],
   "source": [
    "model_name = \"top2vec_lowercase_learn_doc2vec.model\"\n",
    "model = Top2Vec.load(f\"E:/{model_name}\")"
   ]
  },
  {
   "cell_type": "markdown",
   "metadata": {},
   "source": [
    "### Adding new comments"
   ]
  },
  {
   "cell_type": "code",
   "execution_count": 6,
   "metadata": {},
   "outputs": [],
   "source": [
    "model.add_documents(labeled.comment_text.str.lower().tolist())"
   ]
  },
  {
   "cell_type": "markdown",
   "metadata": {},
   "source": [
    "## Finding Similarities"
   ]
  },
  {
   "cell_type": "code",
   "execution_count": 9,
   "metadata": {},
   "outputs": [
    {
     "name": "stdout",
     "output_type": "stream",
     "text": [
      "Index(['channel_name', 'comment_text', 'habit', 'community', 'progress',\n",
      "       'Fitness', 'Competence', 'Appearance', 'Enjoyment', 'Social'],\n",
      "      dtype='object')\n"
     ]
    }
   ],
   "source": [
    "from pprint import pprint\n",
    "pprint(labeled.columns)"
   ]
  },
  {
   "cell_type": "code",
   "execution_count": 7,
   "metadata": {},
   "outputs": [],
   "source": [
    "label_idx = {}\n",
    "# Competence\n",
    "comp_idx = labeled[labeled.Competence == 1].index.values + comments.shape[0]\n",
    "label_idx['competence'] = comp_idx.tolist()\n",
    "# Fitness\n",
    "fit_idx = labeled[labeled.Fitness == 1].index.values + comments.shape[0]\n",
    "label_idx['fitness'] = fit_idx.tolist()\n",
    "# Appearance\n",
    "app_idx = labeled[labeled.Appearance == 1].index.values + comments.shape[0]\n",
    "label_idx['appearance'] = app_idx.tolist()\n",
    "# Enjoyment\n",
    "enj_idx = labeled[labeled.Enjoyment == 1].index.values + comments.shape[0]\n",
    "label_idx['enjoyment'] = enj_idx.tolist()\n",
    "# Social\n",
    "soc_idx = labeled[(labeled.Social == 1)].index.values + comments.shape[0]\n",
    "label_idx['social'] = soc_idx.tolist()\n",
    "\n",
    "# comp_idx = labeled.iloc[:200,:][labeled.Competence == 1].index.values + comments.shape[0]\n",
    "# label_idx['competence'] = comp_idx.tolist()\n",
    "# # Fitness\n",
    "# fit_idx = labeled.iloc[:200,:][labeled.Fitness == 1].index.values + comments.shape[0]\n",
    "# label_idx['fitness'] = fit_idx.tolist()\n",
    "# # Appearance\n",
    "# app_idx = labeled.iloc[:200,:][labeled.Appearance == 1].index.values + comments.shape[0]\n",
    "# label_idx['appearance'] = app_idx.tolist()\n",
    "# # Enjoyment\n",
    "# enj_idx = labeled.iloc[:200,:][labeled.Enjoyment == 1].index.values + comments.shape[0]\n",
    "# label_idx['enjoyment'] = enj_idx.tolist()\n",
    "# # Social\n",
    "# soc_idx = labeled.iloc[:200,:][(labeled.Social == 1)].index.values + comments.shape[0]\n",
    "# label_idx['social'] = soc_idx.tolist()"
   ]
  },
  {
   "cell_type": "code",
   "execution_count": 10,
   "metadata": {},
   "outputs": [
    {
     "name": "stdout",
     "output_type": "stream",
     "text": [
      "(224978, 1)\n"
     ]
    }
   ],
   "source": [
    "comments2 = pd.DataFrame(data={'comment_text': comments.comment_text.tolist() + labeled.comment_text.tolist()})\n",
    "pprint(comments2.shape)"
   ]
  },
  {
   "cell_type": "code",
   "execution_count": 16,
   "metadata": {},
   "outputs": [
    {
     "name": "stderr",
     "output_type": "stream",
     "text": [
      "C:\\Users\\doosti\\AppData\\Local\\Temp\\ipykernel_30448\\1142895729.py:10: FutureWarning: Setting an item of incompatible dtype is deprecated and will raise in a future error of pandas. Value '[0.75801803 0.75695084 0.74746266 ... 0.51310959 0.51310896 0.51310455]' has dtype incompatible with int64, please explicitly cast to a compatible dtype first.\n",
      "  comments2.loc[doc_ids, label] = scores\n",
      "C:\\Users\\doosti\\AppData\\Local\\Temp\\ipykernel_30448\\1142895729.py:10: FutureWarning: Setting an item of incompatible dtype is deprecated and will raise in a future error of pandas. Value '[0.76807742 0.76438951 0.76400473 ... 0.48227173 0.48226823 0.48226797]' has dtype incompatible with int64, please explicitly cast to a compatible dtype first.\n",
      "  comments2.loc[doc_ids, label] = scores\n",
      "C:\\Users\\doosti\\AppData\\Local\\Temp\\ipykernel_30448\\1142895729.py:10: FutureWarning: Setting an item of incompatible dtype is deprecated and will raise in a future error of pandas. Value '[0.61236413 0.60930249 0.6089454  ... 0.3440997  0.34409961 0.34409872]' has dtype incompatible with int64, please explicitly cast to a compatible dtype first.\n",
      "  comments2.loc[doc_ids, label] = scores\n",
      "C:\\Users\\doosti\\AppData\\Local\\Temp\\ipykernel_30448\\1142895729.py:10: FutureWarning: Setting an item of incompatible dtype is deprecated and will raise in a future error of pandas. Value '[0.75217511 0.75171032 0.74740487 ... 0.47054421 0.47054366 0.47054357]' has dtype incompatible with int64, please explicitly cast to a compatible dtype first.\n",
      "  comments2.loc[doc_ids, label] = scores\n",
      "C:\\Users\\doosti\\AppData\\Local\\Temp\\ipykernel_30448\\1142895729.py:10: FutureWarning: Setting an item of incompatible dtype is deprecated and will raise in a future error of pandas. Value '[0.79856858 0.77467886 0.77385377 ... 0.47414403 0.47414382 0.47414201]' has dtype incompatible with int64, please explicitly cast to a compatible dtype first.\n",
      "  comments2.loc[doc_ids, label] = scores\n"
     ]
    },
    {
     "name": "stdout",
     "output_type": "stream",
     "text": [
      "                                             comment_text  competence  \\\n",
      "49322   Love and light - 12 days - focus and attention...    0.524602   \n",
      "71316   This program has helped me in such amazing way...    0.576085   \n",
      "210658  Day 2 done! It was simple yet on point for me....    0.516641   \n",
      "30646   Wow Michelle you're back 😁so wonderful, I miss...    0.539986   \n",
      "156731  I do yoga every morning because of you 😘 Your ...    0.574177   \n",
      "48907   Does anyone have any tips for doing crow witho...    0.000000   \n",
      "34434   This flow felt like a warm cosy blanket. The m...    0.591400   \n",
      "48513   Felt good today❤️. The runner's stretch was th...    0.555443   \n",
      "204926  Great video, thank you for sharing! You have a...    0.000000   \n",
      "114704  Great timing because I dont have that energy f...    0.644630   \n",
      "\n",
      "         fitness  appearance  enjoyment    social  max_score       label  \n",
      "49322   0.518579    0.000000   0.510547  0.501550   0.524602  competence  \n",
      "71316   0.581533    0.365782   0.502825  0.557281   0.581533     fitness  \n",
      "210658  0.000000    0.000000   0.500734  0.000000   0.516641  competence  \n",
      "30646   0.533627    0.000000   0.570987  0.605314   0.605314      social  \n",
      "156731  0.486733    0.404838   0.508536  0.578699   0.578699      social  \n",
      "48907   0.000000    0.000000   0.000000  0.000000   0.000000  competence  \n",
      "34434   0.542043    0.440776   0.542288  0.570670   0.591400  competence  \n",
      "48513   0.535556    0.453387   0.522769  0.000000   0.555443  competence  \n",
      "204926  0.000000    0.358466   0.000000  0.000000   0.358466  appearance  \n",
      "114704  0.632896    0.484343   0.647124  0.569856   0.647124   enjoyment  \n"
     ]
    }
   ],
   "source": [
    "# get similarity scores for each comment\n",
    "def get_similarity_scores(idx, model, num_docs=100000):\n",
    "    docs, scores, doc_ids = model.search_documents_by_documents(idx, num_docs=num_docs)\n",
    "    return scores, doc_ids\n",
    "\n",
    "# fill the column for each label with the similarity scores using the doc ids\n",
    "def fill_column(idx, model, label):\n",
    "    scores, doc_ids = get_similarity_scores(idx, model)\n",
    "    comments2[label] = 0\n",
    "    comments2.loc[doc_ids, label] = scores\n",
    "\n",
    "# fill the columns for each label\n",
    "for label, idx in label_idx.items():\n",
    "    fill_column(idx, model, label)\n",
    "\n",
    "# extra for social\n",
    "soc_idx = (labeled[(labeled.Social == 1)].index.values + comments.shape[0]).tolist()\n",
    "soc_neg = [2+comments.shape[0], 131228, 62165, 224507, 191522, 207289, 224867, 86560,73700] #(labeled.iloc[:350,:][(labeled.Social == 0)].index.values + comments.shape[0]).tolist()\n",
    "docs, scores, doc_ids = model.search_documents_by_documents(doc_ids = soc_idx, doc_ids_neg = soc_neg, num_docs=10000)\n",
    "comments2.loc[doc_ids, 'social'] = scores\n",
    "\n",
    "\n",
    "# get the max score for each comment\n",
    "comments2['max_score'] = comments2[['competence', 'fitness', 'appearance', 'enjoyment', 'social']].max(axis=1)\n",
    "# get the label for each comment\n",
    "comments2['label'] = comments2[['competence', 'fitness', 'appearance', 'enjoyment', 'social']].idxmax(axis=1)\n",
    "\n",
    "pprint(comments2.sample(10))\n"
   ]
  },
  {
   "cell_type": "code",
   "execution_count": 17,
   "metadata": {},
   "outputs": [],
   "source": [
    "comments2.loc[comments2.max_score < 0.6, 'label'] = 'other'"
   ]
  },
  {
   "cell_type": "code",
   "execution_count": 18,
   "metadata": {},
   "outputs": [
    {
     "name": "stdout",
     "output_type": "stream",
     "text": [
      "label\n",
      "other         184614\n",
      "competence     16797\n",
      "social         10643\n",
      "fitness         7950\n",
      "enjoyment       4969\n",
      "appearance         5\n",
      "Name: count, dtype: int64\n"
     ]
    }
   ],
   "source": [
    "pprint(comments2.label.value_counts())"
   ]
  },
  {
   "cell_type": "code",
   "execution_count": 19,
   "metadata": {},
   "outputs": [
    {
     "name": "stdout",
     "output_type": "stream",
     "text": [
      "score:0.80, index:223442, label index:1463\n",
      "(\"I've been doing my own thing for a while and it was wonderful to come back \"\n",
      " 'to Yoga with Adriene.  This was exactly the practice I needed at this '\n",
      " 'moment.  Thank you to everyone in the community.  Thank you to Adriene.  '\n",
      " 'Namaste.')\n",
      "------------------\n",
      "score:0.77, index:91537, label index:-130442\n",
      "('Getting to practice the one a little late today, I could not be any more '\n",
      " 'grateful and humbled by these lovely acts of love in the form of daily yoga '\n",
      " 'practice so thank u Adriene for these amazing session and mind opening '\n",
      " 'experiences much love to u and to everyone practicing Namaste and good night '\n",
      " '💕💓💗💖💞❤🙏💓')\n",
      "------------------\n",
      "score:0.77, index:62165, label index:-159814\n",
      "('Thank you @Yoga With Adriene for another beautiful yoga practise. ❤🙏🏽.  You '\n",
      " 'are so kind and generous with making these videos for us all. i love each '\n",
      " \"one, you've helped me ground and reset myself today, after a tricky morning. \"\n",
      " 'XX')\n",
      "------------------\n",
      "score:0.77, index:67243, label index:-154736\n",
      "(\"Thank you Adriene. I'm feeling so strong, and greatful after todays \"\n",
      " 'practice. Love you. 😌 Thank you yoga community. Have a great rest of the '\n",
      " 'day.')\n",
      "------------------\n",
      "score:0.77, index:131228, label index:-90751\n",
      "('I was so excited to wake up this morning and see a YouTube post that Allie '\n",
      " 'had shared a new yoga class with all of us!! What a wonderful surprise! '\n",
      " 'Thank you Allie for your practice always 🙏 i started my day today with this '\n",
      " 'practice and it felt great 😌')\n",
      "------------------\n",
      "score:0.76, index:86560, label index:-135419\n",
      "('Dear Adriene, thank you so much for this beautiful practice today, and the '\n",
      " 'whole journey.\\n'\n",
      " 'I feel so very grateful for this yoga journey with you and all '\n",
      " 'participants.  :)')\n",
      "------------------\n",
      "score:0.76, index:39943, label index:-182036\n",
      "('What a beautiful way to complete this year’s challenge, loved every second '\n",
      " 'of it. Thank you so much Adriene for sharing the wonders of yoga with this '\n",
      " 'community ❤️')\n",
      "------------------\n",
      "score:0.76, index:65887, label index:-156092\n",
      "('I loved this practice it really helped me feel renewed and calm \\n'\n",
      " 'Thank you adriene you are a lifesaver 🌞\\n'\n",
      " '\\n'\n",
      " \"5000+ people were practicing with me today it's cool to know so many people \"\n",
      " 'are doing yoga around the world 💫')\n",
      "------------------\n",
      "score:0.76, index:224507, label index:2528\n",
      "('I really enjoyed this practice, I released all my stress and I feel peaceful '\n",
      " 'and grateful, thank you for all your love and your beautiful yoga practices, '\n",
      " 'Blessings to both of you')\n",
      "------------------\n",
      "score:0.76, index:39768, label index:-182211\n",
      "('Thank you for sharing this lovely practice Adriene ❤️ Always grateful for '\n",
      " 'your yoga lessons, I had a very nice experience and your voice transmits '\n",
      " 'peace✨')\n",
      "------------------\n",
      "score:0.76, index:191522, label index:-30457\n",
      "('I love this practice and I want to thank you for helping me through many '\n",
      " 'challenging times with your yin yoga classes GOD BLESS YOU')\n",
      "------------------\n",
      "score:0.75, index:207289, label index:-14690\n",
      "('Thank you Radhika for creating one more beautiful start of my day! Lot of '\n",
      " 'gratitude towards your efforts and teaching us Yoga so well!')\n",
      "------------------\n",
      "score:0.75, index:69693, label index:-152286\n",
      "('Thank you Adriene for gifting this beautiful practice to so many.  Yoga and '\n",
      " 'your channel have changed my life. Your hard work and dedication was '\n",
      " 'apparent through Breath. Thank you for all you do. Namaste.')\n",
      "------------------\n",
      "score:0.75, index:73166, label index:-148813\n",
      "('What a great community of people and love this Yoga Challenge. Thank you '\n",
      " 'Adriene for guiding us through these wonderful practices.  Heal and all '\n",
      " 'others were great.  I do them in the evening before settling in for the '\n",
      " 'night and I hope to continue doing this everyday.')\n",
      "------------------\n",
      "score:0.75, index:58080, label index:-163899\n",
      "('Decided I’d like to leave comments of gratitude after I finish each lesson. '\n",
      " 'Thank you Adriene for so lovingly sharing your practice. This has been a '\n",
      " 'beautiful start to my health journey and I’m so thankful for these videos '\n",
      " 'you make.')\n",
      "------------------\n",
      "score:0.75, index:84470, label index:-137509\n",
      "(\"I did not want to do today's practice but I am so happy I showed up. This \"\n",
      " 'yoga journey is really helping my headspace and helps me navigate my days. I '\n",
      " 'have been reminding myself when I feel uneasy to arrive with each breath. I '\n",
      " 'am so thankful for your wisdom Adriene and the gift you share with us every '\n",
      " 'day! A million times thank you!! (Also I love reading the comments after '\n",
      " 'each practice. Everyone is so strong and so inspiring).')\n",
      "------------------\n",
      "score:0.75, index:63668, label index:-158311\n",
      "(\"Well I did it! 😁 I've done three YWA videos today to finish this months \"\n",
      " \"practice ROOT . It's been so lovely today, thank you Adriene for always \"\n",
      " 'being there and helping me to find what feels good. I did fall during this '\n",
      " 'practice, but I breathed deep and got back up again and finish the video. '\n",
      " 'Well done to everybody else who did ROOT this month you are all amazing! And '\n",
      " 'well done to everyone who is doing YWA you are awesome. Thank you to Adriene '\n",
      " 'and Benji for brightening all our lives. See you tomorrow for more awesome '\n",
      " 'yoga.🧘\\u200d♀️ Namaste 🙏 💚')\n",
      "------------------\n",
      "score:0.75, index:73700, label index:-148279\n",
      "('Awesome practice today. Loved taking those big loving breaths! Thank you, '\n",
      " 'Adriene and all the other beautiful yogis practicing together! ~Namaste~🙏🏽❤️')\n",
      "------------------\n",
      "score:0.75, index:215068, label index:-6911\n",
      "('Dearest Allie, welcome back and thank you🙏🌺💖.This is awesome yoga practice! '\n",
      " 'I enjoyed it. This was exactly what I needed today.')\n",
      "------------------\n",
      "score:0.75, index:46952, label index:-175027\n",
      "(\"Today's practice was so beautiful and wonderful all around! My body sure \"\n",
      " 'appreciated it just as much as my mind did!! Thank you Adriene and everyone '\n",
      " 'who practiced with me today! We got this! Namaste ✌️💖')\n",
      "------------------\n"
     ]
    }
   ],
   "source": [
    "for k,row in comments2.sort_values(by='social', ascending=False).iloc[:20].iterrows():\n",
    "# print social score with two decimal places\n",
    "    print(f\"score:{row.social:.2f}, index:{k}, label index:{k-comments.shape[0]}\")\n",
    "    pprint(row.comment_text)\n",
    "    print('------------------')"
   ]
  },
  {
   "cell_type": "code",
   "execution_count": 22,
   "metadata": {},
   "outputs": [
    {
     "name": "stdout",
     "output_type": "stream",
     "text": [
      "[221981, 131228, 62165, 224507, 191522, 207289, 224867, 86560, 73700]\n"
     ]
    }
   ],
   "source": [
    "pprint(soc_neg)"
   ]
  },
  {
   "cell_type": "code",
   "execution_count": 38,
   "metadata": {},
   "outputs": [],
   "source": [
    "# compare the labels to the original labels\n",
    "labeled['predicted_label'] = comments2.loc[comments.shape[0]:, 'label'].tolist()"
   ]
  },
  {
   "cell_type": "code",
   "execution_count": 44,
   "metadata": {},
   "outputs": [
    {
     "name": "stdout",
     "output_type": "stream",
     "text": [
      "label\n",
      "other         2908\n",
      "Competence      35\n",
      "Fitness         23\n",
      "Enjoyment       20\n",
      "Social          10\n",
      "Appearance       3\n",
      "Name: count, dtype: int64\n",
      "predicted_label\n",
      "other         2481\n",
      "competence     202\n",
      "enjoyment      160\n",
      "social          88\n",
      "fitness         68\n",
      "Name: count, dtype: int64\n",
      "Competence 35\n",
      "predicted_label\n",
      "other         30\n",
      "enjoyment      4\n",
      "competence     1\n",
      "Name: count, dtype: int64\n",
      "\n",
      "Enjoyment 20\n",
      "predicted_label\n",
      "other         16\n",
      "fitness        2\n",
      "competence     1\n",
      "enjoyment      1\n",
      "Name: count, dtype: int64\n",
      "\n",
      "other 2908\n",
      "predicted_label\n",
      "other         2405\n",
      "competence     196\n",
      "enjoyment      155\n",
      "social          87\n",
      "fitness         65\n",
      "Name: count, dtype: int64\n",
      "\n",
      "Appearance 3\n",
      "predicted_label\n",
      "other    3\n",
      "Name: count, dtype: int64\n",
      "\n",
      "Fitness 23\n",
      "predicted_label\n",
      "other         19\n",
      "competence     3\n",
      "fitness        1\n",
      "Name: count, dtype: int64\n",
      "\n",
      "Social 10\n",
      "predicted_label\n",
      "other         8\n",
      "competence    1\n",
      "social        1\n",
      "Name: count, dtype: int64\n",
      "\n"
     ]
    }
   ],
   "source": [
    "labeled['label'] = labeled.loc[:,['Fitness', 'Competence', 'Appearance', 'Enjoyment', 'Social']].idxmax(axis=1)\n",
    "labeled.loc[labeled.loc[:,['Fitness', 'Competence', 'Appearance', 'Enjoyment', 'Social']].max(axis=1)<0.5,'label'] = 'other'\n",
    "\n",
    "#pprint(labeled.label.value_counts())\n",
    "#pprint(labeled.predicted_label.value_counts())\n",
    "\n",
    "for label in labeled.label.unique():\n",
    "    print(label, labeled[labeled.label==label].shape[0])\n",
    "    print(labeled[labeled.label==label].predicted_label.value_counts())\n",
    "    print()"
   ]
  },
  {
   "cell_type": "code",
   "execution_count": 42,
   "metadata": {},
   "outputs": [
    {
     "data": {
      "text/html": [
       "<div>\n",
       "<style scoped>\n",
       "    .dataframe tbody tr th:only-of-type {\n",
       "        vertical-align: middle;\n",
       "    }\n",
       "\n",
       "    .dataframe tbody tr th {\n",
       "        vertical-align: top;\n",
       "    }\n",
       "\n",
       "    .dataframe thead th {\n",
       "        text-align: right;\n",
       "    }\n",
       "</style>\n",
       "<table border=\"1\" class=\"dataframe\">\n",
       "  <thead>\n",
       "    <tr style=\"text-align: right;\">\n",
       "      <th></th>\n",
       "      <th>channel_name</th>\n",
       "      <th>comment_text</th>\n",
       "      <th>habit</th>\n",
       "      <th>community</th>\n",
       "      <th>progress</th>\n",
       "      <th>Fitness</th>\n",
       "      <th>Competence</th>\n",
       "      <th>Appearance</th>\n",
       "      <th>Enjoyment</th>\n",
       "      <th>Social</th>\n",
       "      <th>predicted_label</th>\n",
       "      <th>label</th>\n",
       "    </tr>\n",
       "  </thead>\n",
       "  <tbody>\n",
       "    <tr>\n",
       "      <th>0</th>\n",
       "      <td>Candace Cabrera</td>\n",
       "      <td>Wow that was way too advanced for me.  Need to...</td>\n",
       "      <td>0</td>\n",
       "      <td>0</td>\n",
       "      <td>0</td>\n",
       "      <td>0</td>\n",
       "      <td>1</td>\n",
       "      <td>0</td>\n",
       "      <td>0</td>\n",
       "      <td>0</td>\n",
       "      <td>other</td>\n",
       "      <td>Competence</td>\n",
       "    </tr>\n",
       "    <tr>\n",
       "      <th>1</th>\n",
       "      <td>KinoYoga</td>\n",
       "      <td>love this video - it gives me so much motivati...</td>\n",
       "      <td>0</td>\n",
       "      <td>0</td>\n",
       "      <td>0</td>\n",
       "      <td>0</td>\n",
       "      <td>0</td>\n",
       "      <td>0</td>\n",
       "      <td>1</td>\n",
       "      <td>0</td>\n",
       "      <td>other</td>\n",
       "      <td>Enjoyment</td>\n",
       "    </tr>\n",
       "    <tr>\n",
       "      <th>2</th>\n",
       "      <td>Yoga With Adriene</td>\n",
       "      <td>This was so great. Thank you Adriene ‚ú®üíï‚ú...</td>\n",
       "      <td>0</td>\n",
       "      <td>0</td>\n",
       "      <td>0</td>\n",
       "      <td>0</td>\n",
       "      <td>0</td>\n",
       "      <td>0</td>\n",
       "      <td>0</td>\n",
       "      <td>0</td>\n",
       "      <td>other</td>\n",
       "      <td>other</td>\n",
       "    </tr>\n",
       "    <tr>\n",
       "      <th>3</th>\n",
       "      <td>Boho Beautiful Yoga</td>\n",
       "      <td>The video is perfect too... Stil camera, sligh...</td>\n",
       "      <td>0</td>\n",
       "      <td>0</td>\n",
       "      <td>0</td>\n",
       "      <td>0</td>\n",
       "      <td>0</td>\n",
       "      <td>0</td>\n",
       "      <td>0</td>\n",
       "      <td>0</td>\n",
       "      <td>other</td>\n",
       "      <td>other</td>\n",
       "    </tr>\n",
       "    <tr>\n",
       "      <th>4</th>\n",
       "      <td>Yoga With Adriene</td>\n",
       "      <td>Love having Benji in the videos :) My dogs are...</td>\n",
       "      <td>0</td>\n",
       "      <td>0</td>\n",
       "      <td>0</td>\n",
       "      <td>0</td>\n",
       "      <td>0</td>\n",
       "      <td>0</td>\n",
       "      <td>0</td>\n",
       "      <td>0</td>\n",
       "      <td>other</td>\n",
       "      <td>other</td>\n",
       "    </tr>\n",
       "  </tbody>\n",
       "</table>\n",
       "</div>"
      ],
      "text/plain": [
       "          channel_name                                       comment_text  \\\n",
       "0      Candace Cabrera  Wow that was way too advanced for me.  Need to...   \n",
       "1             KinoYoga  love this video - it gives me so much motivati...   \n",
       "2    Yoga With Adriene  This was so great. Thank you Adriene ‚ú®üíï‚ú...   \n",
       "3  Boho Beautiful Yoga  The video is perfect too... Stil camera, sligh...   \n",
       "4    Yoga With Adriene  Love having Benji in the videos :) My dogs are...   \n",
       "\n",
       "   habit  community  progress  Fitness  Competence  Appearance  Enjoyment  \\\n",
       "0      0          0         0        0           1           0          0   \n",
       "1      0          0         0        0           0           0          1   \n",
       "2      0          0         0        0           0           0          0   \n",
       "3      0          0         0        0           0           0          0   \n",
       "4      0          0         0        0           0           0          0   \n",
       "\n",
       "   Social predicted_label       label  \n",
       "0       0           other  Competence  \n",
       "1       0           other   Enjoyment  \n",
       "2       0           other       other  \n",
       "3       0           other       other  \n",
       "4       0           other       other  "
      ]
     },
     "execution_count": 42,
     "metadata": {},
     "output_type": "execute_result"
    }
   ],
   "source": []
  }
 ],
 "metadata": {
  "kernelspec": {
   "display_name": "top2vec",
   "language": "python",
   "name": "python3"
  },
  "language_info": {
   "codemirror_mode": {
    "name": "ipython",
    "version": 3
   },
   "file_extension": ".py",
   "mimetype": "text/x-python",
   "name": "python",
   "nbconvert_exporter": "python",
   "pygments_lexer": "ipython3",
   "version": "3.9.18"
  }
 },
 "nbformat": 4,
 "nbformat_minor": 2
}
