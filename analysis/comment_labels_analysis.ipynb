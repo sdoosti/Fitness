{
 "cells": [
  {
   "cell_type": "code",
   "execution_count": 4,
   "metadata": {},
   "outputs": [],
   "source": [
    "import pandas as pd\n",
    "import os\n",
    "import numpy as np"
   ]
  },
  {
   "cell_type": "code",
   "execution_count": 5,
   "metadata": {},
   "outputs": [],
   "source": [
    "path = \"C:/Users/doosti/Dropbox (Chapman)/Research/Research Projects/Fitness/Data/\"\n",
    "file = \"labeled_comments.csv\""
   ]
  },
  {
   "cell_type": "code",
   "execution_count": 20,
   "metadata": {},
   "outputs": [
    {
     "name": "stderr",
     "output_type": "stream",
     "text": [
      "C:\\Users\\doosti\\AppData\\Local\\Temp\\ipykernel_195840\\2430294057.py:1: DtypeWarning: Columns (8) have mixed types. Specify dtype option on import or set low_memory=False.\n",
      "  comments_labeled = pd.read_csv(os.path.join(path, file))\n"
     ]
    }
   ],
   "source": [
    "comments_labeled = pd.read_csv(os.path.join(path, file))\n",
    "comments = pd.read_csv(os.path.join(path, \"merged_comments.csv\"))\n",
    "videos = pd.read_csv(os.path.join(path, \"videos_101223.csv\"))\n",
    "# matching with the creator id\n",
    "comments['creator_id'] = comments.merge(videos,how='left',on='video_id').creator_id.values\n",
    "comments_labeled['creator_id'] = comments_labeled.merge(videos,how='left',on='video_id').creator_id.values"
   ]
  },
  {
   "cell_type": "code",
   "execution_count": 43,
   "metadata": {},
   "outputs": [
    {
     "name": "stdout",
     "output_type": "stream",
     "text": [
      "809335 827580\n",
      "video_id             0\n",
      "user_id              0\n",
      "comment_text       100\n",
      "no_likes            14\n",
      "no_replies          14\n",
      "comment_year        14\n",
      "comment_month       28\n",
      "comment_day         28\n",
      "creator_id       18245\n",
      "dtype: int64\n",
      "video_id              0\n",
      "user_id               0\n",
      "comment_text        100\n",
      "no_likes             14\n",
      "no_replies           14\n",
      "comment_year         14\n",
      "comment_month        28\n",
      "comment_day          28\n",
      "label            764525\n",
      "label_score      764525\n",
      "creator_id        18245\n",
      "dtype: int64\n"
     ]
    }
   ],
   "source": [
    "print((comments.creator_id==comments_labeled.creator_id).sum(),comments.shape[0])\n",
    "print(comments.isnull().sum())\n",
    "print(comments_labeled.isnull().sum())"
   ]
  },
  {
   "cell_type": "code",
   "execution_count": 18,
   "metadata": {},
   "outputs": [
    {
     "name": "stdout",
     "output_type": "stream",
     "text": [
      "Index(['video_id', 'user_id', 'comment_text', 'no_likes', 'no_replies',\n",
      "       'comment_year', 'comment_month', 'comment_day', 'label', 'label_score'],\n",
      "      dtype='object')\n",
      "Index(['video_id', 'user_id', 'comment_text', 'no_likes', 'no_replies',\n",
      "       'comment_year', 'comment_month', 'comment_day', 'creator_id'],\n",
      "      dtype='object')\n"
     ]
    }
   ],
   "source": [
    "print(comments_labeled.columns)\n",
    "print(comments.columns)"
   ]
  },
  {
   "cell_type": "code",
   "execution_count": 44,
   "metadata": {},
   "outputs": [
    {
     "name": "stdout",
     "output_type": "stream",
     "text": [
      "(827566, 11)\n",
      "(827552, 11)\n",
      "video_id              0\n",
      "user_id               0\n",
      "comment_text        100\n",
      "no_likes              0\n",
      "no_replies            0\n",
      "comment_year          0\n",
      "comment_month         0\n",
      "comment_day           0\n",
      "label            764497\n",
      "label_score      764497\n",
      "creator_id        18231\n",
      "dtype: int64\n"
     ]
    }
   ],
   "source": [
    "# threshold = 11\n",
    "comments_labeled = comments_labeled[comments_labeled.video_id.str.len() == 11].copy()\n",
    "print(comments_labeled.shape)\n",
    "# drop rows with missing year, month, or day\n",
    "comments_labeled = comments_labeled.dropna(subset=['comment_year', 'comment_month', 'comment_day'])\n",
    "print(comments_labeled.shape)\n",
    "print(comments_labeled.isnull().sum())"
   ]
  },
  {
   "cell_type": "code",
   "execution_count": 48,
   "metadata": {},
   "outputs": [],
   "source": [
    "# Create a function to format and convert the date\n",
    "def to_datetime_with_padding(year, month, day):\n",
    "    # Pad month and day with zeros if necessary\n",
    "    month = f\"{month:02d}\"\n",
    "    day = f\"{day:02d}\"\n",
    "    # Combine and convert to datetime\n",
    "    date_str = f\"{year}-{month}-{day}\"\n",
    "    return pd.to_datetime(date_str)\n",
    "\n",
    "comments_labeled['comment_year'] = comments_labeled.comment_year.astype(int)\n",
    "comments_labeled['comment_month'] = comments_labeled.comment_month.astype(int)\n",
    "comments_labeled['comment_day'] = comments_labeled.comment_day.astype(int)\n",
    "\n",
    "# Apply the function to each row\n",
    "comments_labeled['date'] = comments_labeled.apply(lambda row: to_datetime_with_padding(row[\"comment_year\"], row[\"comment_month\"], row[\"comment_day\"]), axis=1)\n"
   ]
  },
  {
   "cell_type": "code",
   "execution_count": 52,
   "metadata": {},
   "outputs": [
    {
     "data": {
      "text/html": [
       "<div>\n",
       "<style scoped>\n",
       "    .dataframe tbody tr th:only-of-type {\n",
       "        vertical-align: middle;\n",
       "    }\n",
       "\n",
       "    .dataframe tbody tr th {\n",
       "        vertical-align: top;\n",
       "    }\n",
       "\n",
       "    .dataframe thead th {\n",
       "        text-align: right;\n",
       "    }\n",
       "</style>\n",
       "<table border=\"1\" class=\"dataframe\">\n",
       "  <thead>\n",
       "    <tr style=\"text-align: right;\">\n",
       "      <th>label</th>\n",
       "      <th>creator_id</th>\n",
       "      <th>date</th>\n",
       "      <th>appearance</th>\n",
       "      <th>competence</th>\n",
       "      <th>fitness</th>\n",
       "      <th>interest</th>\n",
       "      <th>social</th>\n",
       "    </tr>\n",
       "  </thead>\n",
       "  <tbody>\n",
       "    <tr>\n",
       "      <th>0</th>\n",
       "      <td>262h9yTG1f03Nobo501</td>\n",
       "      <td>2020-11-11</td>\n",
       "      <td>0.0</td>\n",
       "      <td>3.0</td>\n",
       "      <td>0.0</td>\n",
       "      <td>0.0</td>\n",
       "      <td>0.0</td>\n",
       "    </tr>\n",
       "    <tr>\n",
       "      <th>1</th>\n",
       "      <td>262h9yTG1f03Nobo501</td>\n",
       "      <td>2020-11-12</td>\n",
       "      <td>0.0</td>\n",
       "      <td>9.0</td>\n",
       "      <td>0.0</td>\n",
       "      <td>0.0</td>\n",
       "      <td>0.0</td>\n",
       "    </tr>\n",
       "    <tr>\n",
       "      <th>2</th>\n",
       "      <td>262h9yTG1f03Nobo501</td>\n",
       "      <td>2020-11-13</td>\n",
       "      <td>0.0</td>\n",
       "      <td>6.0</td>\n",
       "      <td>1.0</td>\n",
       "      <td>1.0</td>\n",
       "      <td>0.0</td>\n",
       "    </tr>\n",
       "    <tr>\n",
       "      <th>3</th>\n",
       "      <td>262h9yTG1f03Nobo501</td>\n",
       "      <td>2020-11-14</td>\n",
       "      <td>0.0</td>\n",
       "      <td>11.0</td>\n",
       "      <td>0.0</td>\n",
       "      <td>1.0</td>\n",
       "      <td>0.0</td>\n",
       "    </tr>\n",
       "    <tr>\n",
       "      <th>4</th>\n",
       "      <td>262h9yTG1f03Nobo501</td>\n",
       "      <td>2020-11-15</td>\n",
       "      <td>0.0</td>\n",
       "      <td>11.0</td>\n",
       "      <td>2.0</td>\n",
       "      <td>0.0</td>\n",
       "      <td>0.0</td>\n",
       "    </tr>\n",
       "  </tbody>\n",
       "</table>\n",
       "</div>"
      ],
      "text/plain": [
       "label           creator_id       date  appearance  competence  fitness  \\\n",
       "0      262h9yTG1f03Nobo501 2020-11-11         0.0         3.0      0.0   \n",
       "1      262h9yTG1f03Nobo501 2020-11-12         0.0         9.0      0.0   \n",
       "2      262h9yTG1f03Nobo501 2020-11-13         0.0         6.0      1.0   \n",
       "3      262h9yTG1f03Nobo501 2020-11-14         0.0        11.0      0.0   \n",
       "4      262h9yTG1f03Nobo501 2020-11-15         0.0        11.0      2.0   \n",
       "\n",
       "label  interest  social  \n",
       "0           0.0     0.0  \n",
       "1           0.0     0.0  \n",
       "2           1.0     0.0  \n",
       "3           1.0     0.0  \n",
       "4           0.0     0.0  "
      ]
     },
     "execution_count": 52,
     "metadata": {},
     "output_type": "execute_result"
    }
   ],
   "source": [
    "\n",
    "channel_day = comments_labeled.groupby(['creator_id','date']).label.value_counts().unstack().reset_index()\n",
    "channel_day = channel_day.fillna(0)\n",
    "channel_day.head()"
   ]
  },
  {
   "cell_type": "code",
   "execution_count": 53,
   "metadata": {},
   "outputs": [],
   "source": [
    "channel_day.to_csv(os.path.join(path, \"channel_day.csv\"), index=False)"
   ]
  },
  {
   "cell_type": "markdown",
   "metadata": {},
   "source": [
    "## Creating a balanced data set"
   ]
  },
  {
   "cell_type": "code",
   "execution_count": 6,
   "metadata": {},
   "outputs": [],
   "source": [
    "channel_day = pd.read_csv(os.path.join(path, \"channel_day.csv\"))\n",
    "trends = pd.read_csv(os.path.join(path, \"final_yoga_channels_trends_091523.csv\"))"
   ]
  },
  {
   "cell_type": "code",
   "execution_count": 7,
   "metadata": {},
   "outputs": [
    {
     "data": {
      "text/html": [
       "<div>\n",
       "<style scoped>\n",
       "    .dataframe tbody tr th:only-of-type {\n",
       "        vertical-align: middle;\n",
       "    }\n",
       "\n",
       "    .dataframe tbody tr th {\n",
       "        vertical-align: top;\n",
       "    }\n",
       "\n",
       "    .dataframe thead th {\n",
       "        text-align: right;\n",
       "    }\n",
       "</style>\n",
       "<table border=\"1\" class=\"dataframe\">\n",
       "  <thead>\n",
       "    <tr style=\"text-align: right;\">\n",
       "      <th></th>\n",
       "      <th>creator_id</th>\n",
       "      <th>date</th>\n",
       "      <th>views</th>\n",
       "      <th>engagements</th>\n",
       "      <th>uploads</th>\n",
       "      <th>followers</th>\n",
       "    </tr>\n",
       "  </thead>\n",
       "  <tbody>\n",
       "    <tr>\n",
       "      <th>0</th>\n",
       "      <td>YhItxj8Ap9</td>\n",
       "      <td>2020-09-15</td>\n",
       "      <td>8173</td>\n",
       "      <td>153</td>\n",
       "      <td>0</td>\n",
       "      <td>NaN</td>\n",
       "    </tr>\n",
       "    <tr>\n",
       "      <th>1</th>\n",
       "      <td>YhItxj8Ap9</td>\n",
       "      <td>2020-09-16</td>\n",
       "      <td>9924</td>\n",
       "      <td>392</td>\n",
       "      <td>2</td>\n",
       "      <td>NaN</td>\n",
       "    </tr>\n",
       "    <tr>\n",
       "      <th>2</th>\n",
       "      <td>YhItxj8Ap9</td>\n",
       "      <td>2020-09-17</td>\n",
       "      <td>9976</td>\n",
       "      <td>369</td>\n",
       "      <td>1</td>\n",
       "      <td>NaN</td>\n",
       "    </tr>\n",
       "    <tr>\n",
       "      <th>3</th>\n",
       "      <td>YhItxj8Ap9</td>\n",
       "      <td>2020-09-18</td>\n",
       "      <td>9279</td>\n",
       "      <td>223</td>\n",
       "      <td>0</td>\n",
       "      <td>NaN</td>\n",
       "    </tr>\n",
       "    <tr>\n",
       "      <th>4</th>\n",
       "      <td>YhItxj8Ap9</td>\n",
       "      <td>2020-09-19</td>\n",
       "      <td>8484</td>\n",
       "      <td>191</td>\n",
       "      <td>1</td>\n",
       "      <td>NaN</td>\n",
       "    </tr>\n",
       "  </tbody>\n",
       "</table>\n",
       "</div>"
      ],
      "text/plain": [
       "   creator_id        date  views  engagements  uploads  followers\n",
       "0  YhItxj8Ap9  2020-09-15   8173          153        0        NaN\n",
       "1  YhItxj8Ap9  2020-09-16   9924          392        2        NaN\n",
       "2  YhItxj8Ap9  2020-09-17   9976          369        1        NaN\n",
       "3  YhItxj8Ap9  2020-09-18   9279          223        0        NaN\n",
       "4  YhItxj8Ap9  2020-09-19   8484          191        1        NaN"
      ]
     },
     "execution_count": 7,
     "metadata": {},
     "output_type": "execute_result"
    }
   ],
   "source": [
    "trends.head()"
   ]
  },
  {
   "cell_type": "code",
   "execution_count": 8,
   "metadata": {},
   "outputs": [
    {
     "data": {
      "text/html": [
       "<div>\n",
       "<style scoped>\n",
       "    .dataframe tbody tr th:only-of-type {\n",
       "        vertical-align: middle;\n",
       "    }\n",
       "\n",
       "    .dataframe tbody tr th {\n",
       "        vertical-align: top;\n",
       "    }\n",
       "\n",
       "    .dataframe thead th {\n",
       "        text-align: right;\n",
       "    }\n",
       "</style>\n",
       "<table border=\"1\" class=\"dataframe\">\n",
       "  <thead>\n",
       "    <tr style=\"text-align: right;\">\n",
       "      <th></th>\n",
       "      <th>creator_id</th>\n",
       "      <th>date</th>\n",
       "      <th>appearance</th>\n",
       "      <th>competence</th>\n",
       "      <th>fitness</th>\n",
       "      <th>interest</th>\n",
       "      <th>social</th>\n",
       "    </tr>\n",
       "  </thead>\n",
       "  <tbody>\n",
       "    <tr>\n",
       "      <th>0</th>\n",
       "      <td>262h9yTG1f03Nobo501</td>\n",
       "      <td>2020-11-11</td>\n",
       "      <td>0.0</td>\n",
       "      <td>3.0</td>\n",
       "      <td>0.0</td>\n",
       "      <td>0.0</td>\n",
       "      <td>0.0</td>\n",
       "    </tr>\n",
       "    <tr>\n",
       "      <th>1</th>\n",
       "      <td>262h9yTG1f03Nobo501</td>\n",
       "      <td>2020-11-12</td>\n",
       "      <td>0.0</td>\n",
       "      <td>9.0</td>\n",
       "      <td>0.0</td>\n",
       "      <td>0.0</td>\n",
       "      <td>0.0</td>\n",
       "    </tr>\n",
       "    <tr>\n",
       "      <th>2</th>\n",
       "      <td>262h9yTG1f03Nobo501</td>\n",
       "      <td>2020-11-13</td>\n",
       "      <td>0.0</td>\n",
       "      <td>6.0</td>\n",
       "      <td>1.0</td>\n",
       "      <td>1.0</td>\n",
       "      <td>0.0</td>\n",
       "    </tr>\n",
       "    <tr>\n",
       "      <th>3</th>\n",
       "      <td>262h9yTG1f03Nobo501</td>\n",
       "      <td>2020-11-14</td>\n",
       "      <td>0.0</td>\n",
       "      <td>11.0</td>\n",
       "      <td>0.0</td>\n",
       "      <td>1.0</td>\n",
       "      <td>0.0</td>\n",
       "    </tr>\n",
       "    <tr>\n",
       "      <th>4</th>\n",
       "      <td>262h9yTG1f03Nobo501</td>\n",
       "      <td>2020-11-15</td>\n",
       "      <td>0.0</td>\n",
       "      <td>11.0</td>\n",
       "      <td>2.0</td>\n",
       "      <td>0.0</td>\n",
       "      <td>0.0</td>\n",
       "    </tr>\n",
       "  </tbody>\n",
       "</table>\n",
       "</div>"
      ],
      "text/plain": [
       "            creator_id        date  appearance  competence  fitness  interest  \\\n",
       "0  262h9yTG1f03Nobo501  2020-11-11         0.0         3.0      0.0       0.0   \n",
       "1  262h9yTG1f03Nobo501  2020-11-12         0.0         9.0      0.0       0.0   \n",
       "2  262h9yTG1f03Nobo501  2020-11-13         0.0         6.0      1.0       1.0   \n",
       "3  262h9yTG1f03Nobo501  2020-11-14         0.0        11.0      0.0       1.0   \n",
       "4  262h9yTG1f03Nobo501  2020-11-15         0.0        11.0      2.0       0.0   \n",
       "\n",
       "   social  \n",
       "0     0.0  \n",
       "1     0.0  \n",
       "2     0.0  \n",
       "3     0.0  \n",
       "4     0.0  "
      ]
     },
     "execution_count": 8,
     "metadata": {},
     "output_type": "execute_result"
    }
   ],
   "source": [
    "channel_day.head()"
   ]
  },
  {
   "cell_type": "code",
   "execution_count": 18,
   "metadata": {},
   "outputs": [
    {
     "name": "stdout",
     "output_type": "stream",
     "text": [
      "number of creators with comments: 23, out of 75 creators in trends\n"
     ]
    }
   ],
   "source": [
    "merged = trends.merge(channel_day,how='left',on=['creator_id','date']) #.to_csv(os.path.join(path, \"trends_channel_day.csv\"), index=False)\n",
    "merged.isnull().sum()\n",
    "print(f\"number of creators with comments: {merged[merged.appearance.notnull()].creator_id.nunique()}, out of {merged.creator_id.nunique()} creators in trends\")\n",
    "# there seems to be a problem with the data set, the number of creators with comments is less than the number of creators in trends"
   ]
  },
  {
   "cell_type": "code",
   "execution_count": 26,
   "metadata": {},
   "outputs": [
    {
     "name": "stdout",
     "output_type": "stream",
     "text": [
      "number of unique creators in the comments data: 71\n",
      "number of unique creators in channel-day data: 23\n"
     ]
    }
   ],
   "source": [
    "# inspection\n",
    "print(f\"number of unique creators in the comments data: {comments_labeled.creator_id.nunique()}\")\n",
    "print(f\"number of unique creators in channel-day data: {channel_day.creator_id.nunique()}\")\n",
    "# there must be some creators in the comments data that are not in the channel-day data, potentially a merging issue"
   ]
  },
  {
   "cell_type": "code",
   "execution_count": 27,
   "metadata": {},
   "outputs": [
    {
     "name": "stdout",
     "output_type": "stream",
     "text": [
      "23\n"
     ]
    }
   ],
   "source": [
    "# check if the issue is with \"date\"\n",
    "merged = trends.merge(channel_day,how='left',on=['creator_id'])\n",
    "print(merged[merged.appearance.notnull()].creator_id.nunique())\n",
    "# no, the issue is not with \"date\""
   ]
  },
  {
   "cell_type": "code",
   "execution_count": 37,
   "metadata": {},
   "outputs": [
    {
     "name": "stdout",
     "output_type": "stream",
     "text": [
      "                       channel_name                channel_id  Unnamed: 2  \\\n",
      "0                        Chloe Ting  UCCgLoMYIyP0U56dEhEL1wXQ         NaN   \n",
      "1                       Pamela Reif  UChVRfsT_ASBZk10o0An7Ucg         NaN   \n",
      "2                       Lilly Sabri  UCTsM1dSAiXqiV5oZjuNw_Bg         NaN   \n",
      "3  Walk at home with Leslie Sansone  UCVl6ZdslZz2Zj-34bMJFPbg         NaN   \n",
      "4                        Workout 4D  UC8-9mdGBP5dtxEKJM2E9bHA         NaN   \n",
      "\n",
      "  yt_channel_id channel_title  \n",
      "0    8MVOSriENi    Chloe Ting  \n",
      "1    H51NdBdKnh   Pamela Reif  \n",
      "2    YuTB3vwpGD   Lilly Sabri  \n",
      "3    2BkNULnxfr  Walk at Home  \n",
      "4    cYe6OSjhG8    Workout 4D  \n",
      "(89, 5)\n",
      "                 channel_name          tubular_id\n",
      "0            Jessica Richburg          OYTNzS4c3W\n",
      "1              Yoga with bird          tsY9pcTzPa\n",
      "2            Move with Nicole  2oCHNAExQ03RWMs201\n",
      "3  Yoga with Allie Van Fossen          yKNyfr6lOY\n",
      "4                Travis Eliot          A5YFIsqHCL\n",
      "(76, 2)\n"
     ]
    }
   ],
   "source": [
    "# there might be a mismatch between the creator_id in the trends and the comments data\n",
    "creator_ids = pd.read_csv(os.path.join(path, \"channel_ids_updated.csv\"))\n",
    "print(creator_ids.head())\n",
    "print(creator_ids.shape)\n",
    "channels = pd.read_csv(os.path.join(path, \"final_channel_list.csv\"))\n",
    "print(channels.head())\n",
    "print(channels.shape)"
   ]
  },
  {
   "cell_type": "code",
   "execution_count": 36,
   "metadata": {},
   "outputs": [
    {
     "data": {
      "text/plain": [
       "(8, 7)"
      ]
     },
     "execution_count": 36,
     "metadata": {},
     "output_type": "execute_result"
    }
   ],
   "source": [
    "channels.merge(creator_ids,how='inner',left_on='channel_name',right_on='channel_title').shape"
   ]
  }
 ],
 "metadata": {
  "kernelspec": {
   "display_name": "ctopics",
   "language": "python",
   "name": "python3"
  },
  "language_info": {
   "codemirror_mode": {
    "name": "ipython",
    "version": 3
   },
   "file_extension": ".py",
   "mimetype": "text/x-python",
   "name": "python",
   "nbconvert_exporter": "python",
   "pygments_lexer": "ipython3",
   "version": "3.8.18"
  }
 },
 "nbformat": 4,
 "nbformat_minor": 2
}
