{
 "cells": [
  {
   "cell_type": "code",
   "execution_count": 1,
   "metadata": {},
   "outputs": [],
   "source": [
    "import pandas as pd\n",
    "import os\n",
    "import numpy as np"
   ]
  },
  {
   "cell_type": "code",
   "execution_count": 13,
   "metadata": {},
   "outputs": [],
   "source": [
    "path = \"C:/Users/doosti/Dropbox (Chapman)/Research/Research Projects/Fitness/Data/\"\n",
    "file = \"labeled_comments.csv\""
   ]
  },
  {
   "cell_type": "code",
   "execution_count": 42,
   "metadata": {},
   "outputs": [
    {
     "name": "stderr",
     "output_type": "stream",
     "text": [
      "C:\\Users\\doosti\\AppData\\Local\\Temp\\ipykernel_188996\\3935688471.py:1: DtypeWarning: Columns (8) have mixed types. Specify dtype option on import or set low_memory=False.\n",
      "  comments_labeled = pd.read_csv(os.path.join(path, file))\n"
     ]
    },
    {
     "name": "stdout",
     "output_type": "stream",
     "text": [
      "809335 827580\n"
     ]
    }
   ],
   "source": [
    "comments_labeled = pd.read_csv(os.path.join(path, file))\n",
    "comments = pd.read_csv(os.path.join(path, \"merged_comments.csv\"))\n",
    "videos = pd.read_csv(os.path.join(path, \"videos_101223.csv\"))\n",
    "# matching with the creator id\n",
    "comments['creator_id'] = comments.merge(videos,how='left',on='video_id').creator_id.values\n",
    "comments_labeled['creator_id'] = comments_labeled.merge(videos,how='left',on='video_id').creator_id.values"
   ]
  },
  {
   "cell_type": "code",
   "execution_count": 43,
   "metadata": {},
   "outputs": [
    {
     "name": "stdout",
     "output_type": "stream",
     "text": [
      "809335 827580\n",
      "video_id             0\n",
      "user_id              0\n",
      "comment_text       100\n",
      "no_likes            14\n",
      "no_replies          14\n",
      "comment_year        14\n",
      "comment_month       28\n",
      "comment_day         28\n",
      "creator_id       18245\n",
      "dtype: int64\n",
      "video_id              0\n",
      "user_id               0\n",
      "comment_text        100\n",
      "no_likes             14\n",
      "no_replies           14\n",
      "comment_year         14\n",
      "comment_month        28\n",
      "comment_day          28\n",
      "label            764525\n",
      "label_score      764525\n",
      "creator_id        18245\n",
      "dtype: int64\n"
     ]
    }
   ],
   "source": [
    "print((comments.creator_id==comments_labeled.creator_id).sum(),comments.shape[0])\n",
    "print(comments.isnull().sum())\n",
    "print(comments_labeled.isnull().sum())"
   ]
  },
  {
   "cell_type": "code",
   "execution_count": 18,
   "metadata": {},
   "outputs": [
    {
     "name": "stdout",
     "output_type": "stream",
     "text": [
      "Index(['video_id', 'user_id', 'comment_text', 'no_likes', 'no_replies',\n",
      "       'comment_year', 'comment_month', 'comment_day', 'label', 'label_score'],\n",
      "      dtype='object')\n",
      "Index(['video_id', 'user_id', 'comment_text', 'no_likes', 'no_replies',\n",
      "       'comment_year', 'comment_month', 'comment_day', 'creator_id'],\n",
      "      dtype='object')\n"
     ]
    }
   ],
   "source": [
    "print(comments_labeled.columns)\n",
    "print(comments.columns)"
   ]
  },
  {
   "cell_type": "code",
   "execution_count": 44,
   "metadata": {},
   "outputs": [
    {
     "name": "stdout",
     "output_type": "stream",
     "text": [
      "(827566, 11)\n",
      "(827552, 11)\n",
      "video_id              0\n",
      "user_id               0\n",
      "comment_text        100\n",
      "no_likes              0\n",
      "no_replies            0\n",
      "comment_year          0\n",
      "comment_month         0\n",
      "comment_day           0\n",
      "label            764497\n",
      "label_score      764497\n",
      "creator_id        18231\n",
      "dtype: int64\n"
     ]
    }
   ],
   "source": [
    "# threshold = 11\n",
    "comments_labeled = comments_labeled[comments_labeled.video_id.str.len() == 11].copy()\n",
    "print(comments_labeled.shape)\n",
    "# drop rows with missing year, month, or day\n",
    "comments_labeled = comments_labeled.dropna(subset=['comment_year', 'comment_month', 'comment_day'])\n",
    "print(comments_labeled.shape)\n",
    "print(comments_labeled.isnull().sum())"
   ]
  },
  {
   "cell_type": "code",
   "execution_count": 48,
   "metadata": {},
   "outputs": [],
   "source": [
    "# Create a function to format and convert the date\n",
    "def to_datetime_with_padding(year, month, day):\n",
    "    # Pad month and day with zeros if necessary\n",
    "    month = f\"{month:02d}\"\n",
    "    day = f\"{day:02d}\"\n",
    "    # Combine and convert to datetime\n",
    "    date_str = f\"{year}-{month}-{day}\"\n",
    "    return pd.to_datetime(date_str)\n",
    "\n",
    "comments_labeled['comment_year'] = comments_labeled.comment_year.astype(int)\n",
    "comments_labeled['comment_month'] = comments_labeled.comment_month.astype(int)\n",
    "comments_labeled['comment_day'] = comments_labeled.comment_day.astype(int)\n",
    "\n",
    "# Apply the function to each row\n",
    "comments_labeled['date'] = comments_labeled.apply(lambda row: to_datetime_with_padding(row[\"comment_year\"], row[\"comment_month\"], row[\"comment_day\"]), axis=1)\n"
   ]
  },
  {
   "cell_type": "code",
   "execution_count": 52,
   "metadata": {},
   "outputs": [
    {
     "data": {
      "text/html": [
       "<div>\n",
       "<style scoped>\n",
       "    .dataframe tbody tr th:only-of-type {\n",
       "        vertical-align: middle;\n",
       "    }\n",
       "\n",
       "    .dataframe tbody tr th {\n",
       "        vertical-align: top;\n",
       "    }\n",
       "\n",
       "    .dataframe thead th {\n",
       "        text-align: right;\n",
       "    }\n",
       "</style>\n",
       "<table border=\"1\" class=\"dataframe\">\n",
       "  <thead>\n",
       "    <tr style=\"text-align: right;\">\n",
       "      <th>label</th>\n",
       "      <th>creator_id</th>\n",
       "      <th>date</th>\n",
       "      <th>appearance</th>\n",
       "      <th>competence</th>\n",
       "      <th>fitness</th>\n",
       "      <th>interest</th>\n",
       "      <th>social</th>\n",
       "    </tr>\n",
       "  </thead>\n",
       "  <tbody>\n",
       "    <tr>\n",
       "      <th>0</th>\n",
       "      <td>262h9yTG1f03Nobo501</td>\n",
       "      <td>2020-11-11</td>\n",
       "      <td>0.0</td>\n",
       "      <td>3.0</td>\n",
       "      <td>0.0</td>\n",
       "      <td>0.0</td>\n",
       "      <td>0.0</td>\n",
       "    </tr>\n",
       "    <tr>\n",
       "      <th>1</th>\n",
       "      <td>262h9yTG1f03Nobo501</td>\n",
       "      <td>2020-11-12</td>\n",
       "      <td>0.0</td>\n",
       "      <td>9.0</td>\n",
       "      <td>0.0</td>\n",
       "      <td>0.0</td>\n",
       "      <td>0.0</td>\n",
       "    </tr>\n",
       "    <tr>\n",
       "      <th>2</th>\n",
       "      <td>262h9yTG1f03Nobo501</td>\n",
       "      <td>2020-11-13</td>\n",
       "      <td>0.0</td>\n",
       "      <td>6.0</td>\n",
       "      <td>1.0</td>\n",
       "      <td>1.0</td>\n",
       "      <td>0.0</td>\n",
       "    </tr>\n",
       "    <tr>\n",
       "      <th>3</th>\n",
       "      <td>262h9yTG1f03Nobo501</td>\n",
       "      <td>2020-11-14</td>\n",
       "      <td>0.0</td>\n",
       "      <td>11.0</td>\n",
       "      <td>0.0</td>\n",
       "      <td>1.0</td>\n",
       "      <td>0.0</td>\n",
       "    </tr>\n",
       "    <tr>\n",
       "      <th>4</th>\n",
       "      <td>262h9yTG1f03Nobo501</td>\n",
       "      <td>2020-11-15</td>\n",
       "      <td>0.0</td>\n",
       "      <td>11.0</td>\n",
       "      <td>2.0</td>\n",
       "      <td>0.0</td>\n",
       "      <td>0.0</td>\n",
       "    </tr>\n",
       "  </tbody>\n",
       "</table>\n",
       "</div>"
      ],
      "text/plain": [
       "label           creator_id       date  appearance  competence  fitness  \\\n",
       "0      262h9yTG1f03Nobo501 2020-11-11         0.0         3.0      0.0   \n",
       "1      262h9yTG1f03Nobo501 2020-11-12         0.0         9.0      0.0   \n",
       "2      262h9yTG1f03Nobo501 2020-11-13         0.0         6.0      1.0   \n",
       "3      262h9yTG1f03Nobo501 2020-11-14         0.0        11.0      0.0   \n",
       "4      262h9yTG1f03Nobo501 2020-11-15         0.0        11.0      2.0   \n",
       "\n",
       "label  interest  social  \n",
       "0           0.0     0.0  \n",
       "1           0.0     0.0  \n",
       "2           1.0     0.0  \n",
       "3           1.0     0.0  \n",
       "4           0.0     0.0  "
      ]
     },
     "execution_count": 52,
     "metadata": {},
     "output_type": "execute_result"
    }
   ],
   "source": [
    "\n",
    "channel_day = comments_labeled.groupby(['creator_id','date']).label.value_counts().unstack().reset_index()\n",
    "channel_day = channel_day.fillna(0)\n",
    "channel_day.head()"
   ]
  },
  {
   "cell_type": "code",
   "execution_count": 53,
   "metadata": {},
   "outputs": [],
   "source": [
    "channel_day.to_csv(os.path.join(path, \"channel_day.csv\"), index=False)\n"
   ]
  },
  {
   "cell_type": "code",
   "execution_count": null,
   "metadata": {},
   "outputs": [],
   "source": []
  }
 ],
 "metadata": {
  "kernelspec": {
   "display_name": "ctopics",
   "language": "python",
   "name": "python3"
  },
  "language_info": {
   "codemirror_mode": {
    "name": "ipython",
    "version": 3
   },
   "file_extension": ".py",
   "mimetype": "text/x-python",
   "name": "python",
   "nbconvert_exporter": "python",
   "pygments_lexer": "ipython3",
   "version": "3.8.18"
  }
 },
 "nbformat": 4,
 "nbformat_minor": 2
}
