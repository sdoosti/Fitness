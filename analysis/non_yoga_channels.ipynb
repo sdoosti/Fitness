{
 "cells": [
  {
   "cell_type": "code",
   "execution_count": 1,
   "metadata": {},
   "outputs": [],
   "source": [
    "import pandas as pd\n",
    "import os"
   ]
  },
  {
   "cell_type": "code",
   "execution_count": 2,
   "metadata": {},
   "outputs": [
    {
     "name": "stdout",
     "output_type": "stream",
     "text": [
      "C:/Users/doosti/OneDrive - Chapman University/Research/Research Projects/Fitness/Data/\n"
     ]
    }
   ],
   "source": [
    "Path = \"C:/Users/doosti/OneDrive - Chapman University/Research/Research Projects/Fitness/Data/\"\n",
    "print(Path)"
   ]
  },
  {
   "cell_type": "code",
   "execution_count": 3,
   "metadata": {},
   "outputs": [
    {
     "name": "stdout",
     "output_type": "stream",
     "text": [
      "(116023, 3)\n",
      "                   date                creator_id  \\\n",
      "0  2024-03-31T18:41:56Z  UCzzYnZ8GIzfB1Vr3hk2Nj9Q   \n",
      "1  2024-03-31T18:12:27Z  UCzzYnZ8GIzfB1Vr3hk2Nj9Q   \n",
      "2  2024-03-30T19:58:47Z  UCzzYnZ8GIzfB1Vr3hk2Nj9Q   \n",
      "3  2024-03-30T18:31:11Z  UCzzYnZ8GIzfB1Vr3hk2Nj9Q   \n",
      "4  2024-03-30T00:30:27Z  UCzzYnZ8GIzfB1Vr3hk2Nj9Q   \n",
      "\n",
      "                                               title  \n",
      "0  MTS Nutrition Tyrant Estogen and Cortisol Cont...  \n",
      "1          This Moron Brings Coconuts on Airplanes\\n  \n",
      "2                         The most natty bar ever!\\n  \n",
      "3  MTS Nutrition Zinc + Magnesium + B6 Review | T...  \n",
      "4                              I'm Leaving YouTube\\n  \n",
      "date           0\n",
      "creator_id    11\n",
      "title         11\n",
      "dtype: int64\n"
     ]
    }
   ],
   "source": [
    "with open(Path + \"video_info_pilates.csv\", \"r\", encoding='utf-8') as f:\n",
    "    lines = f.readlines()\n",
    "    lines = lines[1:]\n",
    "    lines = [line.split(\",\") for line in lines]\n",
    "\n",
    "for i,line in enumerate(lines):\n",
    "    if len(line) > 3:\n",
    "        lines[i] = [line[0], line[1], \",\".join(line[2:])]\n",
    "\n",
    "videos = pd.DataFrame(lines, columns=[\"date\", \"creator_id\", \"title\"])\n",
    "print(videos.shape)\n",
    "print(videos.head())\n",
    "print(videos.isnull().sum())"
   ]
  },
  {
   "cell_type": "code",
   "execution_count": 4,
   "metadata": {},
   "outputs": [
    {
     "data": {
      "text/html": [
       "<div>\n",
       "<style scoped>\n",
       "    .dataframe tbody tr th:only-of-type {\n",
       "        vertical-align: middle;\n",
       "    }\n",
       "\n",
       "    .dataframe tbody tr th {\n",
       "        vertical-align: top;\n",
       "    }\n",
       "\n",
       "    .dataframe thead th {\n",
       "        text-align: right;\n",
       "    }\n",
       "</style>\n",
       "<table border=\"1\" class=\"dataframe\">\n",
       "  <thead>\n",
       "    <tr style=\"text-align: right;\">\n",
       "      <th></th>\n",
       "      <th>date</th>\n",
       "      <th>creator_id</th>\n",
       "      <th>title</th>\n",
       "    </tr>\n",
       "  </thead>\n",
       "  <tbody>\n",
       "    <tr>\n",
       "      <th>0</th>\n",
       "      <td>2024-03-31</td>\n",
       "      <td>UCzzYnZ8GIzfB1Vr3hk2Nj9Q</td>\n",
       "      <td>MTS Nutrition Tyrant Estogen and Cortisol Cont...</td>\n",
       "    </tr>\n",
       "    <tr>\n",
       "      <th>1</th>\n",
       "      <td>2024-03-31</td>\n",
       "      <td>UCzzYnZ8GIzfB1Vr3hk2Nj9Q</td>\n",
       "      <td>This Moron Brings Coconuts on Airplanes\\n</td>\n",
       "    </tr>\n",
       "    <tr>\n",
       "      <th>2</th>\n",
       "      <td>2024-03-30</td>\n",
       "      <td>UCzzYnZ8GIzfB1Vr3hk2Nj9Q</td>\n",
       "      <td>The most natty bar ever!\\n</td>\n",
       "    </tr>\n",
       "    <tr>\n",
       "      <th>3</th>\n",
       "      <td>2024-03-30</td>\n",
       "      <td>UCzzYnZ8GIzfB1Vr3hk2Nj9Q</td>\n",
       "      <td>MTS Nutrition Zinc + Magnesium + B6 Review | T...</td>\n",
       "    </tr>\n",
       "    <tr>\n",
       "      <th>4</th>\n",
       "      <td>2024-03-30</td>\n",
       "      <td>UCzzYnZ8GIzfB1Vr3hk2Nj9Q</td>\n",
       "      <td>I'm Leaving YouTube\\n</td>\n",
       "    </tr>\n",
       "  </tbody>\n",
       "</table>\n",
       "</div>"
      ],
      "text/plain": [
       "        date                creator_id  \\\n",
       "0 2024-03-31  UCzzYnZ8GIzfB1Vr3hk2Nj9Q   \n",
       "1 2024-03-31  UCzzYnZ8GIzfB1Vr3hk2Nj9Q   \n",
       "2 2024-03-30  UCzzYnZ8GIzfB1Vr3hk2Nj9Q   \n",
       "3 2024-03-30  UCzzYnZ8GIzfB1Vr3hk2Nj9Q   \n",
       "4 2024-03-30  UCzzYnZ8GIzfB1Vr3hk2Nj9Q   \n",
       "\n",
       "                                               title  \n",
       "0  MTS Nutrition Tyrant Estogen and Cortisol Cont...  \n",
       "1          This Moron Brings Coconuts on Airplanes\\n  \n",
       "2                         The most natty bar ever!\\n  \n",
       "3  MTS Nutrition Zinc + Magnesium + B6 Review | T...  \n",
       "4                              I'm Leaving YouTube\\n  "
      ]
     },
     "execution_count": 4,
     "metadata": {},
     "output_type": "execute_result"
    }
   ],
   "source": [
    "# just keep the date and remove the time\n",
    "videos['date'] = videos['date'].str.split(\"T\").str[0]\n",
    "videos['date'] = pd.to_datetime(videos['date'], errors='coerce')\n",
    "videos = videos[videos.date.notnull()]\n",
    "videos.head()"
   ]
  },
  {
   "cell_type": "code",
   "execution_count": 5,
   "metadata": {},
   "outputs": [],
   "source": [
    "import re\n",
    "def flag_challenges(text):\n",
    "    \"\"\"\n",
    "    flags a string to determine they include keywords \"challenge\" or \"Day #\"\n",
    "    text (str): video title\n",
    "    return (bool) if flagged\n",
    "    \"\"\"\n",
    "    return (len(re.search('day \\d+|$', text.lower()).group()) > 0 ) | ('challenge' in text.lower())\n",
    "\n",
    "def find_challenge_videos(video_titles):\n",
    "    \"\"\"\n",
    "    flags videos that have challenge or day in their title\n",
    "    videos (pandas.Series): a pandas series of video titles to be flagged\n",
    "        each video is a dictionary\n",
    "    return (pandas.Series)\n",
    "    \"\"\"\n",
    "    return video_titles.apply(flag_challenges)\n"
   ]
  },
  {
   "cell_type": "code",
   "execution_count": 6,
   "metadata": {},
   "outputs": [],
   "source": [
    "videos['challenge'] = find_challenge_videos(videos.title)"
   ]
  },
  {
   "cell_type": "code",
   "execution_count": 7,
   "metadata": {},
   "outputs": [
    {
     "data": {
      "text/plain": [
       "False    111845\n",
       "True       4167\n",
       "Name: challenge, dtype: int64"
      ]
     },
     "execution_count": 7,
     "metadata": {},
     "output_type": "execute_result"
    }
   ],
   "source": [
    "videos.challenge.value_counts()"
   ]
  },
  {
   "cell_type": "code",
   "execution_count": 8,
   "metadata": {},
   "outputs": [
    {
     "data": {
      "text/html": [
       "<div>\n",
       "<style scoped>\n",
       "    .dataframe tbody tr th:only-of-type {\n",
       "        vertical-align: middle;\n",
       "    }\n",
       "\n",
       "    .dataframe tbody tr th {\n",
       "        vertical-align: top;\n",
       "    }\n",
       "\n",
       "    .dataframe thead th {\n",
       "        text-align: right;\n",
       "    }\n",
       "</style>\n",
       "<table border=\"1\" class=\"dataframe\">\n",
       "  <thead>\n",
       "    <tr style=\"text-align: right;\">\n",
       "      <th></th>\n",
       "      <th>creator_id</th>\n",
       "      <th>date</th>\n",
       "      <th>views</th>\n",
       "      <th>engagements</th>\n",
       "      <th>uploads</th>\n",
       "      <th>followers</th>\n",
       "    </tr>\n",
       "  </thead>\n",
       "  <tbody>\n",
       "    <tr>\n",
       "      <th>0</th>\n",
       "      <td>2x5Qizg7id</td>\n",
       "      <td>2020-08-08</td>\n",
       "      <td>13128</td>\n",
       "      <td>230</td>\n",
       "      <td>1</td>\n",
       "      <td>NaN</td>\n",
       "    </tr>\n",
       "    <tr>\n",
       "      <th>1</th>\n",
       "      <td>2x5Qizg7id</td>\n",
       "      <td>2020-08-09</td>\n",
       "      <td>12953</td>\n",
       "      <td>201</td>\n",
       "      <td>0</td>\n",
       "      <td>NaN</td>\n",
       "    </tr>\n",
       "    <tr>\n",
       "      <th>2</th>\n",
       "      <td>2x5Qizg7id</td>\n",
       "      <td>2020-08-10</td>\n",
       "      <td>12290</td>\n",
       "      <td>182</td>\n",
       "      <td>0</td>\n",
       "      <td>NaN</td>\n",
       "    </tr>\n",
       "    <tr>\n",
       "      <th>3</th>\n",
       "      <td>2x5Qizg7id</td>\n",
       "      <td>2020-08-11</td>\n",
       "      <td>15276</td>\n",
       "      <td>418</td>\n",
       "      <td>2</td>\n",
       "      <td>NaN</td>\n",
       "    </tr>\n",
       "    <tr>\n",
       "      <th>4</th>\n",
       "      <td>2x5Qizg7id</td>\n",
       "      <td>2020-08-12</td>\n",
       "      <td>16044</td>\n",
       "      <td>375</td>\n",
       "      <td>1</td>\n",
       "      <td>NaN</td>\n",
       "    </tr>\n",
       "  </tbody>\n",
       "</table>\n",
       "</div>"
      ],
      "text/plain": [
       "   creator_id        date  views  engagements  uploads  followers\n",
       "0  2x5Qizg7id  2020-08-08  13128          230        1        NaN\n",
       "1  2x5Qizg7id  2020-08-09  12953          201        0        NaN\n",
       "2  2x5Qizg7id  2020-08-10  12290          182        0        NaN\n",
       "3  2x5Qizg7id  2020-08-11  15276          418        2        NaN\n",
       "4  2x5Qizg7id  2020-08-12  16044          375        1        NaN"
      ]
     },
     "execution_count": 8,
     "metadata": {},
     "output_type": "execute_result"
    }
   ],
   "source": [
    "trends = pd.read_csv(Path + \"trends_Physical Exercise_Physical Fitness_Gymnasium_Wellness_Strength Training_Pilates.csv\")\n",
    "trends.head()"
   ]
  },
  {
   "cell_type": "code",
   "execution_count": 10,
   "metadata": {},
   "outputs": [
    {
     "data": {
      "text/html": [
       "<div>\n",
       "<style scoped>\n",
       "    .dataframe tbody tr th:only-of-type {\n",
       "        vertical-align: middle;\n",
       "    }\n",
       "\n",
       "    .dataframe tbody tr th {\n",
       "        vertical-align: top;\n",
       "    }\n",
       "\n",
       "    .dataframe thead th {\n",
       "        text-align: right;\n",
       "    }\n",
       "</style>\n",
       "<table border=\"1\" class=\"dataframe\">\n",
       "  <thead>\n",
       "    <tr style=\"text-align: right;\">\n",
       "      <th></th>\n",
       "      <th>creator_id</th>\n",
       "      <th>title</th>\n",
       "      <th>type</th>\n",
       "      <th>youtube_id</th>\n",
       "      <th>country</th>\n",
       "      <th>language</th>\n",
       "      <th>genre</th>\n",
       "      <th>industry</th>\n",
       "      <th>uploads_90d</th>\n",
       "      <th>views</th>\n",
       "      <th>last_upload_date</th>\n",
       "    </tr>\n",
       "  </thead>\n",
       "  <tbody>\n",
       "    <tr>\n",
       "      <th>0</th>\n",
       "      <td>Dh9aKQRw503PUa1V01</td>\n",
       "      <td>Centrum PH</td>\n",
       "      <td>brand</td>\n",
       "      <td>yta_DmSmAwt4X9gMudgRwJ3ecQ</td>\n",
       "      <td>PH</td>\n",
       "      <td>en</td>\n",
       "      <td>Health, Fitness &amp; Self Help</td>\n",
       "      <td>Personal Care &amp; Health</td>\n",
       "      <td>2</td>\n",
       "      <td>462701069</td>\n",
       "      <td>2023-07-18</td>\n",
       "    </tr>\n",
       "    <tr>\n",
       "      <th>1</th>\n",
       "      <td>Cp3ULAtU6I</td>\n",
       "      <td>Fit Tuber</td>\n",
       "      <td>brand</td>\n",
       "      <td>yta_YC6Vcczj8v-Y5OgpEJTFBw</td>\n",
       "      <td>IN</td>\n",
       "      <td>en</td>\n",
       "      <td>Health, Fitness &amp; Self Help</td>\n",
       "      <td>Personal Care &amp; Health</td>\n",
       "      <td>6</td>\n",
       "      <td>852196427</td>\n",
       "      <td>2023-07-28</td>\n",
       "    </tr>\n",
       "    <tr>\n",
       "      <th>2</th>\n",
       "      <td>212xVuk3Jf03RKHn201</td>\n",
       "      <td>Just Move Zumba Dance Fitness Milan Italy</td>\n",
       "      <td>brand</td>\n",
       "      <td>yta_Zo8BAi0leaHpPgY1kAmwzA</td>\n",
       "      <td>PH</td>\n",
       "      <td>en</td>\n",
       "      <td>Health, Fitness &amp; Self Help</td>\n",
       "      <td>Personal Care &amp; Health</td>\n",
       "      <td>101</td>\n",
       "      <td>244559967</td>\n",
       "      <td>2023-07-29</td>\n",
       "    </tr>\n",
       "    <tr>\n",
       "      <th>3</th>\n",
       "      <td>GcEzlKE2sH</td>\n",
       "      <td>Bob &amp; Brad</td>\n",
       "      <td>brand</td>\n",
       "      <td>yta_mTe0LsfEbpkDpgrxKAWbRA</td>\n",
       "      <td>US</td>\n",
       "      <td>en</td>\n",
       "      <td>Health, Fitness &amp; Self Help</td>\n",
       "      <td>Personal Care &amp; Health</td>\n",
       "      <td>417</td>\n",
       "      <td>619341858</td>\n",
       "      <td>2023-08-06</td>\n",
       "    </tr>\n",
       "    <tr>\n",
       "      <th>4</th>\n",
       "      <td>KFN1qx7ryz</td>\n",
       "      <td>Sethu</td>\n",
       "      <td>brand</td>\n",
       "      <td>yta_0KMy2IyOb8BHz05Kxz-YCQ</td>\n",
       "      <td>IN</td>\n",
       "      <td>en</td>\n",
       "      <td>Health, Fitness &amp; Self Help</td>\n",
       "      <td>Personal Care &amp; Health</td>\n",
       "      <td>97</td>\n",
       "      <td>164419334</td>\n",
       "      <td>2023-08-06</td>\n",
       "    </tr>\n",
       "  </tbody>\n",
       "</table>\n",
       "</div>"
      ],
      "text/plain": [
       "            creator_id                                      title   type  \\\n",
       "0   Dh9aKQRw503PUa1V01                                 Centrum PH  brand   \n",
       "1           Cp3ULAtU6I                                  Fit Tuber  brand   \n",
       "2  212xVuk3Jf03RKHn201  Just Move Zumba Dance Fitness Milan Italy  brand   \n",
       "3           GcEzlKE2sH                                 Bob & Brad  brand   \n",
       "4           KFN1qx7ryz                                      Sethu  brand   \n",
       "\n",
       "                   youtube_id country language                        genre  \\\n",
       "0  yta_DmSmAwt4X9gMudgRwJ3ecQ      PH       en  Health, Fitness & Self Help   \n",
       "1  yta_YC6Vcczj8v-Y5OgpEJTFBw      IN       en  Health, Fitness & Self Help   \n",
       "2  yta_Zo8BAi0leaHpPgY1kAmwzA      PH       en  Health, Fitness & Self Help   \n",
       "3  yta_mTe0LsfEbpkDpgrxKAWbRA      US       en  Health, Fitness & Self Help   \n",
       "4  yta_0KMy2IyOb8BHz05Kxz-YCQ      IN       en  Health, Fitness & Self Help   \n",
       "\n",
       "                 industry  uploads_90d      views last_upload_date  \n",
       "0  Personal Care & Health            2  462701069       2023-07-18  \n",
       "1  Personal Care & Health            6  852196427       2023-07-28  \n",
       "2  Personal Care & Health          101  244559967       2023-07-29  \n",
       "3  Personal Care & Health          417  619341858       2023-08-06  \n",
       "4  Personal Care & Health           97  164419334       2023-08-06  "
      ]
     },
     "execution_count": 10,
     "metadata": {},
     "output_type": "execute_result"
    }
   ],
   "source": [
    "creators = pd.read_csv(Path + \"creators_Physical Exercise_Physical Fitness_Gymnasium_Wellness_Strength Training_Pilates.csv\")\n",
    "creators.head()"
   ]
  },
  {
   "cell_type": "code",
   "execution_count": 11,
   "metadata": {},
   "outputs": [],
   "source": [
    "# removing 'yta' from youtube_id\n",
    "creators['youtube_id'] = creators['youtube_id'].str.replace('yta_', '')\n",
    "# extract creator_id and youtube_id into a dictionary (keys: creator_id, values: youtube_id)\n",
    "creator_dict = creators.set_index('youtube_id')['creator_id'].to_dict()\n",
    "# remove the first two letters from creator_id\n",
    "videos['creator_id'] = videos.creator_id.str[2:]"
   ]
  },
  {
   "cell_type": "code",
   "execution_count": 12,
   "metadata": {},
   "outputs": [
    {
     "data": {
      "text/plain": [
       "(116012, 4)"
      ]
     },
     "execution_count": 12,
     "metadata": {},
     "output_type": "execute_result"
    }
   ],
   "source": [
    "videos[videos.creator_id.isin(list(creator_dict.keys()))].shape"
   ]
  },
  {
   "cell_type": "code",
   "execution_count": 13,
   "metadata": {},
   "outputs": [
    {
     "data": {
      "text/plain": [
       "0         zzYnZ8GIzfB1Vr3hk2Nj9Q\n",
       "1         zzYnZ8GIzfB1Vr3hk2Nj9Q\n",
       "2         zzYnZ8GIzfB1Vr3hk2Nj9Q\n",
       "3         zzYnZ8GIzfB1Vr3hk2Nj9Q\n",
       "4         zzYnZ8GIzfB1Vr3hk2Nj9Q\n",
       "                   ...          \n",
       "116018    sedpgo_lnZ6SQmn__uH8ZA\n",
       "116019    sedpgo_lnZ6SQmn__uH8ZA\n",
       "116020    sedpgo_lnZ6SQmn__uH8ZA\n",
       "116021    sedpgo_lnZ6SQmn__uH8ZA\n",
       "116022    sedpgo_lnZ6SQmn__uH8ZA\n",
       "Name: creator_id, Length: 116012, dtype: object"
      ]
     },
     "execution_count": 13,
     "metadata": {},
     "output_type": "execute_result"
    }
   ],
   "source": [
    "videos.creator_id"
   ]
  },
  {
   "cell_type": "code",
   "execution_count": 14,
   "metadata": {},
   "outputs": [],
   "source": [
    "# get alternative id by using a dictionary and replace creator_id\n",
    "videos['creator_id'] = videos.creator_id.map(creator_dict)"
   ]
  },
  {
   "cell_type": "code",
   "execution_count": 15,
   "metadata": {},
   "outputs": [
    {
     "data": {
      "text/html": [
       "<div>\n",
       "<style scoped>\n",
       "    .dataframe tbody tr th:only-of-type {\n",
       "        vertical-align: middle;\n",
       "    }\n",
       "\n",
       "    .dataframe tbody tr th {\n",
       "        vertical-align: top;\n",
       "    }\n",
       "\n",
       "    .dataframe thead th {\n",
       "        text-align: right;\n",
       "    }\n",
       "</style>\n",
       "<table border=\"1\" class=\"dataframe\">\n",
       "  <thead>\n",
       "    <tr style=\"text-align: right;\">\n",
       "      <th></th>\n",
       "      <th>creator_id</th>\n",
       "      <th>date</th>\n",
       "    </tr>\n",
       "  </thead>\n",
       "  <tbody>\n",
       "    <tr>\n",
       "      <th>0</th>\n",
       "      <td>2x5Qizg7id</td>\n",
       "      <td>2024-03-31</td>\n",
       "    </tr>\n",
       "    <tr>\n",
       "      <th>1</th>\n",
       "      <td>2x5Qizg7id</td>\n",
       "      <td>2024-03-31</td>\n",
       "    </tr>\n",
       "    <tr>\n",
       "      <th>2</th>\n",
       "      <td>2x5Qizg7id</td>\n",
       "      <td>2024-03-30</td>\n",
       "    </tr>\n",
       "    <tr>\n",
       "      <th>3</th>\n",
       "      <td>2x5Qizg7id</td>\n",
       "      <td>2024-03-30</td>\n",
       "    </tr>\n",
       "    <tr>\n",
       "      <th>4</th>\n",
       "      <td>2x5Qizg7id</td>\n",
       "      <td>2024-03-30</td>\n",
       "    </tr>\n",
       "    <tr>\n",
       "      <th>...</th>\n",
       "      <td>...</td>\n",
       "      <td>...</td>\n",
       "    </tr>\n",
       "    <tr>\n",
       "      <th>116018</th>\n",
       "      <td>IAn1PTOoUh</td>\n",
       "      <td>2018-01-19</td>\n",
       "    </tr>\n",
       "    <tr>\n",
       "      <th>116019</th>\n",
       "      <td>IAn1PTOoUh</td>\n",
       "      <td>2018-01-17</td>\n",
       "    </tr>\n",
       "    <tr>\n",
       "      <th>116020</th>\n",
       "      <td>IAn1PTOoUh</td>\n",
       "      <td>2018-01-11</td>\n",
       "    </tr>\n",
       "    <tr>\n",
       "      <th>116021</th>\n",
       "      <td>IAn1PTOoUh</td>\n",
       "      <td>2018-01-05</td>\n",
       "    </tr>\n",
       "    <tr>\n",
       "      <th>116022</th>\n",
       "      <td>IAn1PTOoUh</td>\n",
       "      <td>2018-01-02</td>\n",
       "    </tr>\n",
       "  </tbody>\n",
       "</table>\n",
       "<p>116012 rows × 2 columns</p>\n",
       "</div>"
      ],
      "text/plain": [
       "        creator_id       date\n",
       "0       2x5Qizg7id 2024-03-31\n",
       "1       2x5Qizg7id 2024-03-31\n",
       "2       2x5Qizg7id 2024-03-30\n",
       "3       2x5Qizg7id 2024-03-30\n",
       "4       2x5Qizg7id 2024-03-30\n",
       "...            ...        ...\n",
       "116018  IAn1PTOoUh 2018-01-19\n",
       "116019  IAn1PTOoUh 2018-01-17\n",
       "116020  IAn1PTOoUh 2018-01-11\n",
       "116021  IAn1PTOoUh 2018-01-05\n",
       "116022  IAn1PTOoUh 2018-01-02\n",
       "\n",
       "[116012 rows x 2 columns]"
      ]
     },
     "execution_count": 15,
     "metadata": {},
     "output_type": "execute_result"
    }
   ],
   "source": [
    "videos[['creator_id','date']]"
   ]
  },
  {
   "cell_type": "code",
   "execution_count": 19,
   "metadata": {},
   "outputs": [
    {
     "data": {
      "text/html": [
       "<div>\n",
       "<style scoped>\n",
       "    .dataframe tbody tr th:only-of-type {\n",
       "        vertical-align: middle;\n",
       "    }\n",
       "\n",
       "    .dataframe tbody tr th {\n",
       "        vertical-align: top;\n",
       "    }\n",
       "\n",
       "    .dataframe thead th {\n",
       "        text-align: right;\n",
       "    }\n",
       "</style>\n",
       "<table border=\"1\" class=\"dataframe\">\n",
       "  <thead>\n",
       "    <tr style=\"text-align: right;\">\n",
       "      <th></th>\n",
       "      <th>creator_id</th>\n",
       "      <th>date</th>\n",
       "      <th>count</th>\n",
       "    </tr>\n",
       "  </thead>\n",
       "  <tbody>\n",
       "    <tr>\n",
       "      <th>0</th>\n",
       "      <td>0ZLkVcZ76g</td>\n",
       "      <td>2019-09-30</td>\n",
       "      <td>1</td>\n",
       "    </tr>\n",
       "    <tr>\n",
       "      <th>1</th>\n",
       "      <td>0ZLkVcZ76g</td>\n",
       "      <td>2020-02-03</td>\n",
       "      <td>1</td>\n",
       "    </tr>\n",
       "    <tr>\n",
       "      <th>2</th>\n",
       "      <td>0ZLkVcZ76g</td>\n",
       "      <td>2020-02-06</td>\n",
       "      <td>1</td>\n",
       "    </tr>\n",
       "    <tr>\n",
       "      <th>3</th>\n",
       "      <td>0ZLkVcZ76g</td>\n",
       "      <td>2020-02-12</td>\n",
       "      <td>1</td>\n",
       "    </tr>\n",
       "    <tr>\n",
       "      <th>4</th>\n",
       "      <td>0ZLkVcZ76g</td>\n",
       "      <td>2020-02-14</td>\n",
       "      <td>1</td>\n",
       "    </tr>\n",
       "    <tr>\n",
       "      <th>...</th>\n",
       "      <td>...</td>\n",
       "      <td>...</td>\n",
       "      <td>...</td>\n",
       "    </tr>\n",
       "    <tr>\n",
       "      <th>72553</th>\n",
       "      <td>zIDBEkDAoy</td>\n",
       "      <td>2021-07-27</td>\n",
       "      <td>7</td>\n",
       "    </tr>\n",
       "    <tr>\n",
       "      <th>72554</th>\n",
       "      <td>zIDBEkDAoy</td>\n",
       "      <td>2021-10-05</td>\n",
       "      <td>1</td>\n",
       "    </tr>\n",
       "    <tr>\n",
       "      <th>72555</th>\n",
       "      <td>zIDBEkDAoy</td>\n",
       "      <td>2022-01-09</td>\n",
       "      <td>1</td>\n",
       "    </tr>\n",
       "    <tr>\n",
       "      <th>72556</th>\n",
       "      <td>zIDBEkDAoy</td>\n",
       "      <td>2022-12-01</td>\n",
       "      <td>1</td>\n",
       "    </tr>\n",
       "    <tr>\n",
       "      <th>72557</th>\n",
       "      <td>zIDBEkDAoy</td>\n",
       "      <td>2023-08-17</td>\n",
       "      <td>3</td>\n",
       "    </tr>\n",
       "  </tbody>\n",
       "</table>\n",
       "<p>72558 rows × 3 columns</p>\n",
       "</div>"
      ],
      "text/plain": [
       "       creator_id       date  count\n",
       "0      0ZLkVcZ76g 2019-09-30      1\n",
       "1      0ZLkVcZ76g 2020-02-03      1\n",
       "2      0ZLkVcZ76g 2020-02-06      1\n",
       "3      0ZLkVcZ76g 2020-02-12      1\n",
       "4      0ZLkVcZ76g 2020-02-14      1\n",
       "...           ...        ...    ...\n",
       "72553  zIDBEkDAoy 2021-07-27      7\n",
       "72554  zIDBEkDAoy 2021-10-05      1\n",
       "72555  zIDBEkDAoy 2022-01-09      1\n",
       "72556  zIDBEkDAoy 2022-12-01      1\n",
       "72557  zIDBEkDAoy 2023-08-17      3\n",
       "\n",
       "[72558 rows x 3 columns]"
      ]
     },
     "execution_count": 19,
     "metadata": {},
     "output_type": "execute_result"
    }
   ],
   "source": [
    "videos.groupby(['creator_id','date']).size().reset_index().rename(columns={0:'count'})"
   ]
  },
  {
   "cell_type": "code",
   "execution_count": 20,
   "metadata": {},
   "outputs": [
    {
     "name": "stdout",
     "output_type": "stream",
     "text": [
      "   creator_id       date  views  engagements  uploads  followers  challenge  \\\n",
      "0  2x5Qizg7id 2020-08-08  13128          230        1        NaN        0.0   \n",
      "1  2x5Qizg7id 2020-08-09  12953          201        0        NaN        0.0   \n",
      "2  2x5Qizg7id 2020-08-10  12290          182        0        NaN        0.0   \n",
      "3  2x5Qizg7id 2020-08-11  15276          418        2        NaN        0.0   \n",
      "4  2x5Qizg7id 2020-08-12  16044          375        1        NaN        0.0   \n",
      "\n",
      "   non_challenge  \n",
      "0            1.0  \n",
      "1            0.0  \n",
      "2            0.0  \n",
      "3            2.0  \n",
      "4            1.0  \n"
     ]
    }
   ],
   "source": [
    "trends['date'] = pd.to_datetime(trends['date'], errors='coerce')\n",
    "grouped = videos.groupby(['creator_id','date']).challenge.sum().reset_index()\n",
    "total_videos = videos.groupby(['creator_id','date']).size().reset_index().rename(columns={0:'count'})\n",
    "grouped['non_challenge'] = total_videos['count'] - grouped['challenge']\n",
    "trends['challenge'] = trends.merge(grouped, on=['creator_id','date'], how='left').challenge.fillna(0)\n",
    "trends['non_challenge'] = trends.merge(grouped, on=['creator_id','date'], how='left').non_challenge.fillna(0)\n",
    "print(trends.head())"
   ]
  },
  {
   "cell_type": "code",
   "execution_count": 21,
   "metadata": {},
   "outputs": [
    {
     "name": "stdout",
     "output_type": "stream",
     "text": [
      "challenge_dummy\n",
      "0    217829\n",
      "1      1171\n",
      "dtype: int64\n",
      "non_challenge_dummy\n",
      "0    190941\n",
      "1     28059\n",
      "dtype: int64\n"
     ]
    }
   ],
   "source": [
    "trends['challenge_dummy'] = trends['challenge'] > 0\n",
    "trends['challenge_dummy'] = trends['challenge_dummy'].astype(int)\n",
    "print(trends.value_counts('challenge_dummy'))\n",
    "\n",
    "trends['non_challenge_dummy'] = trends['non_challenge'] > 0\n",
    "trends['non_challenge_dummy'] = trends['non_challenge_dummy'].astype(int)\n",
    "print(trends.value_counts('non_challenge_dummy'))"
   ]
  },
  {
   "cell_type": "code",
   "execution_count": 22,
   "metadata": {},
   "outputs": [],
   "source": [
    "trends.to_csv(Path + \"trends_nonYoga.csv\", index=False)"
   ]
  },
  {
   "cell_type": "code",
   "execution_count": 93,
   "metadata": {},
   "outputs": [
    {
     "data": {
      "text/plain": [
       "0      103\n",
       "1       31\n",
       "2       19\n",
       "3        9\n",
       "6        6\n",
       "9        4\n",
       "5        2\n",
       "8        2\n",
       "15       2\n",
       "76       1\n",
       "26       1\n",
       "67       1\n",
       "66       1\n",
       "64       1\n",
       "56       1\n",
       "82       1\n",
       "49       1\n",
       "31       1\n",
       "28       1\n",
       "18       1\n",
       "22       1\n",
       "21       1\n",
       "20       1\n",
       "19       1\n",
       "14       1\n",
       "13       1\n",
       "12       1\n",
       "11       1\n",
       "7        1\n",
       "4        1\n",
       "241      1\n",
       "Name: challenge_dummy, dtype: int64"
      ]
     },
     "execution_count": 93,
     "metadata": {},
     "output_type": "execute_result"
    }
   ],
   "source": [
    "# find channels that have no challenge videos\n",
    "trends.groupby('creator_id').challenge_dummy.sum().value_counts()"
   ]
  }
 ],
 "metadata": {
  "kernelspec": {
   "display_name": "fb",
   "language": "python",
   "name": "python3"
  },
  "language_info": {
   "codemirror_mode": {
    "name": "ipython",
    "version": 3
   },
   "file_extension": ".py",
   "mimetype": "text/x-python",
   "name": "python",
   "nbconvert_exporter": "python",
   "pygments_lexer": "ipython3",
   "version": "3.9.2"
  }
 },
 "nbformat": 4,
 "nbformat_minor": 2
}
